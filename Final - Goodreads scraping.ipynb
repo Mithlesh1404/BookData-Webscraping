
Scraping the top list of books based on Genres from Goodreads(a subsidiary of Amazon)
I have picked Goodreads website to scrape

I'd like to scrape the list of books under each Genre

Project Outline
Step 1:

We're going to scrape Goodreads web site https://www.goodreads.com/list?ref=nav_brws_lists

We'll get a list of genres and its url first save it to a csv.

For each genre we'll get different book list types, no. of books and no. of voters.

For each Genre we got the first 30 book lists with their titles, url with number of books available and voters and saved it to a csv

Step 2:

We selected Childrens Genre and got the first 30 book list types and the first 100 books under each book list type

Each book will have the book title, Book url, Author, Avg Rating Total ratings, Book score and votes

Sved it into a csv file

Step 3:

For each booklist type we'll create a CSV file in the following format:

Format: Book Title,Book url ,Author ,Average rating and Total Ratings ,Bookscore and votes

Example: Harry Potter series box set,https://www.goodreads.com//book/show/862041.Harry_Potter_Series_Box_Set, J.K Rowling, 4.74 avg rating ‚ 273,511 Total ratings ,score:10,671,and 110 peoplevoted

Step 4:

Getting the description took a lot of time so I took a particular genre Children and took a particular book list Best series under Childrens Genre and got descriptions only for those to save time and saved it into a csv file

Step 5:

Now using while loop and for loop i want to scrape book details from atleast first 3 pages under Childrens Genre and Booklist type: Picture books and save it to a csv file

Use the requests library to download web pages
import requests
!pip install beautifulsoup4
Requirement already satisfied: beautifulsoup4 in /Library/Frameworks/Python.framework/Versions/3.10/lib/python3.10/site-packages (4.11.1)
Requirement already satisfied: soupsieve>1.2 in /Library/Frameworks/Python.framework/Versions/3.10/lib/python3.10/site-packages (from beautifulsoup4) (2.3.2.post1)
WARNING: You are using pip version 22.0.4; however, version 22.3 is available.
You should consider upgrading via the '/Library/Frameworks/Python.framework/Versions/3.10/bin/python3.10 -m pip install --upgrade pip' command.
from bs4 import BeautifulSoup
URL = "https://www.goodreads.com/list?ref=nav_brws_lists"
page = requests.get(URL)
Use Beautiful Soup to parse and extract information
soup1 = BeautifulSoup(page.content,"html.parser")
page.status_code
200
soup2 = BeautifulSoup(soup1.prettify(),"html.parser")
page_contents = page.text
with open('Genrepage.html','w') as f:
    f.write(page_contents)
#Get the a_tags which corresponds to the title and url

Genre_Title = soup2.find_all('a',{'class': 'actionLinkLite'})
Genre_Title[0]
<a class="actionLinkLite" href="/list/new">
          Create New List
         </a>
#Removed first 5 in the lists

n = 5
Genre_Title = soup2.find_all('a',{'class': 'actionLinkLite'})
genres_30 = Genre_Title[n:]
print(genres_30)
[<a class="actionLinkLite" href="/list/tag/romance">
             romance
            </a>, <a class="actionLinkLite" href="/list/tag/fiction">
             fiction
            </a>, <a class="actionLinkLite" href="/list/tag/young-adult">
             young-adult
            </a>, <a class="actionLinkLite" href="/list/tag/fantasy">
             fantasy
            </a>, <a class="actionLinkLite" href="/list/tag/science-fiction">
             science-fiction
            </a>, <a class="actionLinkLite" href="/list/tag/non-fiction">
             non-fiction
            </a>, <a class="actionLinkLite" href="/list/tag/children">
             children
            </a>, <a class="actionLinkLite" href="/list/tag/history">
             history
            </a>, <a class="actionLinkLite" href="/list/tag/mystery">
             mystery
            </a>, <a class="actionLinkLite" href="/list/tag/covers">
             covers
            </a>, <a class="actionLinkLite" href="/list/tag/horror">
             horror
            </a>, <a class="actionLinkLite" href="/list/tag/historical-fiction">
             historical-fiction
            </a>, <a class="actionLinkLite" href="/list/tag/best">
             best
            </a>, <a class="actionLinkLite" href="/list/tag/gay">
             gay
            </a>, <a class="actionLinkLite" href="/list/tag/paranormal">
             paranormal
            </a>, <a class="actionLinkLite" href="/list/tag/titles">
             titles
            </a>, <a class="actionLinkLite" href="/list/tag/love">
             love
            </a>, <a class="actionLinkLite" href="/list/tag/middle-grade">
             middle-grade
            </a>, <a class="actionLinkLite" href="/list/tag/contemporary">
             contemporary
            </a>, <a class="actionLinkLite" href="/list/tag/historical-romance">
             historical-romance
            </a>, <a class="actionLinkLite" href="/list/tag/thriller">
             thriller
            </a>, <a class="actionLinkLite" href="/list/tag/biography">
             biography
            </a>, <a class="actionLinkLite" href="/list/tag/nonfiction">
             nonfiction
            </a>, <a class="actionLinkLite" href="/list/tag/women">
             women
            </a>, <a class="actionLinkLite" href="/list/tag/series">
             series
            </a>, <a class="actionLinkLite" href="/list/tag/lgbt">
             lgbt
            </a>, <a class="actionLinkLite" href="/list/tag/classics">
             classics
            </a>, <a class="actionLinkLite" href="/list/tag/graphic-novels">
             graphic-novels
            </a>, <a class="actionLinkLite" href="/list/tag/queer">
             queer
            </a>, <a class="actionLinkLite" href="/list/tag/memoir">
             memoir
            </a>]
genres_30[0].text
'\n             romance\n            '
Genre_link_tags =  soup2.find_all('a',{'class': 'actionLinkLite'})
#Removed the first 5 book list as they are not relevant to what i am looking for 
n = 5
Genre_link_tags = soup2.find_all('a',{'class': 'actionLinkLite'})
Genre_link_tags_30 = Genre_link_tags[n:]
print(Genre_link_tags_30)
[<a class="actionLinkLite" href="/list/tag/romance">
             romance
            </a>, <a class="actionLinkLite" href="/list/tag/fiction">
             fiction
            </a>, <a class="actionLinkLite" href="/list/tag/young-adult">
             young-adult
            </a>, <a class="actionLinkLite" href="/list/tag/fantasy">
             fantasy
            </a>, <a class="actionLinkLite" href="/list/tag/science-fiction">
             science-fiction
            </a>, <a class="actionLinkLite" href="/list/tag/non-fiction">
             non-fiction
            </a>, <a class="actionLinkLite" href="/list/tag/children">
             children
            </a>, <a class="actionLinkLite" href="/list/tag/history">
             history
            </a>, <a class="actionLinkLite" href="/list/tag/mystery">
             mystery
            </a>, <a class="actionLinkLite" href="/list/tag/covers">
             covers
            </a>, <a class="actionLinkLite" href="/list/tag/horror">
             horror
            </a>, <a class="actionLinkLite" href="/list/tag/historical-fiction">
             historical-fiction
            </a>, <a class="actionLinkLite" href="/list/tag/best">
             best
            </a>, <a class="actionLinkLite" href="/list/tag/gay">
             gay
            </a>, <a class="actionLinkLite" href="/list/tag/paranormal">
             paranormal
            </a>, <a class="actionLinkLite" href="/list/tag/titles">
             titles
            </a>, <a class="actionLinkLite" href="/list/tag/love">
             love
            </a>, <a class="actionLinkLite" href="/list/tag/middle-grade">
             middle-grade
            </a>, <a class="actionLinkLite" href="/list/tag/contemporary">
             contemporary
            </a>, <a class="actionLinkLite" href="/list/tag/historical-romance">
             historical-romance
            </a>, <a class="actionLinkLite" href="/list/tag/thriller">
             thriller
            </a>, <a class="actionLinkLite" href="/list/tag/biography">
             biography
            </a>, <a class="actionLinkLite" href="/list/tag/nonfiction">
             nonfiction
            </a>, <a class="actionLinkLite" href="/list/tag/women">
             women
            </a>, <a class="actionLinkLite" href="/list/tag/series">
             series
            </a>, <a class="actionLinkLite" href="/list/tag/lgbt">
             lgbt
            </a>, <a class="actionLinkLite" href="/list/tag/classics">
             classics
            </a>, <a class="actionLinkLite" href="/list/tag/graphic-novels">
             graphic-novels
            </a>, <a class="actionLinkLite" href="/list/tag/queer">
             queer
            </a>, <a class="actionLinkLite" href="/list/tag/memoir">
             memoir
            </a>]
romance_genre_url = "https://www.goodreads.com/" + Genre_link_tags_30[0]['href']
print(romance_genre_url)
https://www.goodreads.com//list/tag/romance
Genre_types_all30 = []

for Genre in genres_30:
    Genre_types_all30.append(Genre.text.strip())
print(Genre_types_all30)
['romance', 'fiction', 'young-adult', 'fantasy', 'science-fiction', 'non-fiction', 'children', 'history', 'mystery', 'covers', 'horror', 'historical-fiction', 'best', 'gay', 'paranormal', 'titles', 'love', 'middle-grade', 'contemporary', 'historical-romance', 'thriller', 'biography', 'nonfiction', 'women', 'series', 'lgbt', 'classics', 'graphic-novels', 'queer', 'memoir']
GenreURL_all30s = []
base_url = 'https://www.goodreads.com/'

for Genre in Genre_link_tags_30:
    GenreURL_all30s.append(base_url+Genre['href'])
GenreURL_all30s[0]
'https://www.goodreads.com//list/tag/romance'
!pip install pandas 
Requirement already satisfied: pandas in /Library/Frameworks/Python.framework/Versions/3.10/lib/python3.10/site-packages (1.5.1)
Requirement already satisfied: pytz>=2020.1 in /Library/Frameworks/Python.framework/Versions/3.10/lib/python3.10/site-packages (from pandas) (2022.1)
Requirement already satisfied: python-dateutil>=2.8.1 in /Library/Frameworks/Python.framework/Versions/3.10/lib/python3.10/site-packages (from pandas) (2.8.2)
Requirement already satisfied: numpy>=1.21.0 in /Library/Frameworks/Python.framework/Versions/3.10/lib/python3.10/site-packages (from pandas) (1.22.3)
Requirement already satisfied: six>=1.5 in /Library/Frameworks/Python.framework/Versions/3.10/lib/python3.10/site-packages (from python-dateutil>=2.8.1->pandas) (1.16.0)
WARNING: You are using pip version 22.0.4; however, version 22.3 is available.
You should consider upgrading via the '/Library/Frameworks/Python.framework/Versions/3.10/bin/python3.10 -m pip install --upgrade pip' command.
import pandas as pd
Genre_dict_1st ={
    'title': Genre_types_all30,
    'url': GenreURL_all30s
}
Genre_df_1stpage = pd.DataFrame(Genre_dict_1st)
#Now we have the first page which has the genre types and the url 

Genre_df_1stpage
title	url
0	romance	https://www.goodreads.com//list/tag/romance
1	fiction	https://www.goodreads.com//list/tag/fiction
2	young-adult	https://www.goodreads.com//list/tag/young-adult
3	fantasy	https://www.goodreads.com//list/tag/fantasy
4	science-fiction	https://www.goodreads.com//list/tag/science-fi...
5	non-fiction	https://www.goodreads.com//list/tag/non-fiction
6	children	https://www.goodreads.com//list/tag/children
7	history	https://www.goodreads.com//list/tag/history
8	mystery	https://www.goodreads.com//list/tag/mystery
9	covers	https://www.goodreads.com//list/tag/covers
10	horror	https://www.goodreads.com//list/tag/horror
11	historical-fiction	https://www.goodreads.com//list/tag/historical...
12	best	https://www.goodreads.com//list/tag/best
13	gay	https://www.goodreads.com//list/tag/gay
14	paranormal	https://www.goodreads.com//list/tag/paranormal
15	titles	https://www.goodreads.com//list/tag/titles
16	love	https://www.goodreads.com//list/tag/love
17	middle-grade	https://www.goodreads.com//list/tag/middle-grade
18	contemporary	https://www.goodreads.com//list/tag/contemporary
19	historical-romance	https://www.goodreads.com//list/tag/historical...
20	thriller	https://www.goodreads.com//list/tag/thriller
21	biography	https://www.goodreads.com//list/tag/biography
22	nonfiction	https://www.goodreads.com//list/tag/nonfiction
23	women	https://www.goodreads.com//list/tag/women
24	series	https://www.goodreads.com//list/tag/series
25	lgbt	https://www.goodreads.com//list/tag/lgbt
26	classics	https://www.goodreads.com//list/tag/classics
27	graphic-novels	https://www.goodreads.com//list/tag/graphic-no...
28	queer	https://www.goodreads.com//list/tag/queer
29	memoir	https://www.goodreads.com//list/tag/memoir
#Step 1 done

#Now we got the different types of genres with the url linked to that
#We have to go further and we want to get the different lists of books under each genres
Create CSV file(s) with the extracted information
Genre_df_1stpage.to_csv('Genre_types.csv',index = None)
Getting information out of a particular genre page
romance_page_URL = GenreURL_all30s[0]
romance_page_URL
'https://www.goodreads.com//list/tag/romance'
Genre_romance_content = requests.get(romance_page_URL)
Genre_romance_content.status_code
200
len(Genre_romance_content.text)
112355
romance_genre_page = BeautifulSoup(Genre_romance_content.text,"html.parser")
#Get the a tags for getting the list of books from each genre and the url linked to each list

romace_genre_list_url = romance_genre_page.find_all('a',{'class': 'listTitle'})
romace_genre_list_url[1]
<a class="listTitle" href="/list/show/397.Best_Paranormal_Romance_Series">Best Paranormal Romance Series</a>
romance_list_titles = []

for tag in romace_genre_list_url:
    romance_list_titles.append(tag.text)
romance_list_URL = []

base_url = 'https://www.goodreads.com/'
for tag in romace_genre_list_url:
    romance_list_URL.append(base_url + tag['href'])
#Get the div tags for getting the no. of votes and no. of books each lists has

romance_genre_voters_books = romance_genre_page.find_all('div',{'class': 'listFullDetails'})
romance_genre_voters_books[0]
<div class="listFullDetails">
    9,551 books
    —
    28,065 voters



</div>
romance_books_voters = []

for tag in romance_genre_voters_books:
    romance_books_voters.append(tag.text)
romance_books_voters[:2]
['\n    9,551 books\n    —\n    28,065 voters\n\n\n\n',
 '\n    1,330 books\n    —\n    13,474 voters\n\n\n\n']
#Replace \n with a space

Final_romance_books_voters_list = [element.replace('\n', '') for element in romance_books_voters]
Final_romance_books_voters_list[:2]
['    9,551 books    —    28,065 voters',
 '    1,330 books    —    13,474 voters']
romance_books_voters

for word in romance_books_voters:
    romance_books_voters_final = word.replace('\n', ',')
romance_book_dict ={
    'Romance_genre_listTitle': romance_list_titles,
    'url': romance_list_URL,
    'voters and Books': Final_romance_books_voters_list
}
romance_book_dict
{'Romance_genre_listTitle': ['Best Book Boyfriends',
  'Best Paranormal Romance Series',
  'All Time Favorite Romance Novels',
  'Best M/F Erotic Romance like Fifty Shades of Grey  (not paranormal, high school, gay or sci-fi)',
  'Best Paranormal & Fantasy Romances',
  'Best ADULT Urban Fantasy, Fantasy and Paranormal Romance',
  'Best Love Stories ',
  'Young Adult Romance',
  'College Romance',
  'Best Ever Contemporary Romance Books',
  'Intense And "Angsty" Romance',
  'Indie Authors to Watch',
  'Controlling/Sexy/Possessive Men',
  'TO DIE FOR 2000 - 2015 STAND-ALONES',
  'Hottest Adult & Young Adult Romance Books ',
  'Favorite Historical Romance Novels',
  'Most Anticipated Romances of 2015',
  'I AM IN LOVE !!!',
  'So you love a Bad Boy or Tortured Hero',
  'Best of Little-Known Authors',
  'Magic, Adventure, Romance',
  'Character You Most Want to Sleep With',
  'Best Woman-Authored Books',
  'MUST READS!!!',
  'Must Read Books- Different Genres',
  'Books With Heroes/Heroines Who Are Assassins',
  'YA Books Far Better than Twilight',
  'Best YA/New Adult Contemporary Romance',
  'The Best Time-Travel Romance Novels',
  'Romance Debuts 2013'],
 'url': ['https://www.goodreads.com//list/show/10762.Best_Book_Boyfriends',
  'https://www.goodreads.com//list/show/397.Best_Paranormal_Romance_Series',
  'https://www.goodreads.com//list/show/12362.All_Time_Favorite_Romance_Novels',
  'https://www.goodreads.com//list/show/18698.Best_M_F_Erotic_Romance_like_Fifty_Shades_of_Grey_not_paranormal_high_school_gay_or_sci_fi_',
  'https://www.goodreads.com//list/show/225.Best_Paranormal_Fantasy_Romances',
  'https://www.goodreads.com//list/show/9088.Best_ADULT_Urban_Fantasy_Fantasy_and_Paranormal_Romance',
  'https://www.goodreads.com//list/show/550.Best_Love_Stories_',
  'https://www.goodreads.com//list/show/1333.Young_Adult_Romance',
  'https://www.goodreads.com//list/show/12066.College_Romance',
  'https://www.goodreads.com//list/show/57.Best_Ever_Contemporary_Romance_Books',
  'https://www.goodreads.com//list/show/16083.Intense_And_Angsty_Romance',
  'https://www.goodreads.com//list/show/36335.Indie_Authors_to_Watch',
  'https://www.goodreads.com//list/show/17468.Controlling_Sexy_Possessive_Men',
  'https://www.goodreads.com//list/show/18006.TO_DIE_FOR_2000_2015_STAND_ALONES',
  'https://www.goodreads.com//list/show/18225.Hottest_Adult_Young_Adult_Romance_Books_',
  'https://www.goodreads.com//list/show/224.Favorite_Historical_Romance_Novels',
  'https://www.goodreads.com//list/show/80005.Most_Anticipated_Romances_of_2015',
  'https://www.goodreads.com//list/show/19109.I_AM_IN_LOVE_',
  'https://www.goodreads.com//list/show/4243.So_you_love_a_Bad_Boy_or_Tortured_Hero',
  'https://www.goodreads.com//list/show/7205.Best_of_Little_Known_Authors',
  'https://www.goodreads.com//list/show/870.Magic_Adventure_Romance',
  'https://www.goodreads.com//list/show/1104.Character_You_Most_Want_to_Sleep_With',
  'https://www.goodreads.com//list/show/26495.Best_Woman_Authored_Books',
  'https://www.goodreads.com//list/show/19106.MUST_READS_',
  'https://www.goodreads.com//list/show/2491.Must_Read_Books_Different_Genres',
  'https://www.goodreads.com//list/show/2669.Books_With_Heroes_Heroines_Who_Are_Assassins',
  'https://www.goodreads.com//list/show/5490.YA_Books_Far_Better_than_Twilight',
  'https://www.goodreads.com//list/show/29836.Best_YA_New_Adult_Contemporary_Romance',
  'https://www.goodreads.com//list/show/421.The_Best_Time_Travel_Romance_Novels',
  'https://www.goodreads.com//list/show/40930.Romance_Debuts_2013'],
 'voters and Books': ['    9,551 books    —    28,065 voters',
  '    1,330 books    —    13,474 voters',
  '    5,098 books    —    12,270 voters',
  '    3,242 books    —    10,193 voters',
  '    5,115 books    —    9,857 voters',
  '    4,091 books    —    9,731 voters',
  '    4,859 books    —    9,492 voters',
  '    3,720 books    —    9,295 voters',
  '    1,548 books    —    8,591 voters',
  '    4,525 books    —    8,474 voters',
  '    2,862 books    —    7,253 voters',
  '    7,280 books    —    6,915 voters',
  '    2,971 books    —    6,465 voters',
  '    1,887 books    —    6,461 voters',
  '    2,794 books    —    6,443 voters',
  '    3,273 books    —    6,420 voters',
  '    1,410 books    —    6,198 voters',
  '    4,013 books    —    6,169 voters',
  '    3,429 books    —    5,664 voters',
  '    6,334 books    —    5,530 voters',
  '    2,019 books    —    5,388 voters',
  '    3,924 books    —    5,323 voters',
  '    7,395 books    —    5,118 voters',
  '    7,347 books    —    4,826 voters',
  '    6,895 books    —    4,764 voters',
  '    1,122 books    —    4,638 voters',
  '    2,993 books    —    4,454 voters',
  '    1,952 books    —    4,433 voters',
  '    936 books    —    4,376 voters',
  '    463 books    —    4,140 voters']}
romance_df = pd.DataFrame(romance_book_dict)
romance_df
Romance_genre_listTitle	url	voters and Books
0	Best Book Boyfriends	https://www.goodreads.com//list/show/10762.Bes...	9,551 books — 28,065 voters
1	Best Paranormal Romance Series	https://www.goodreads.com//list/show/397.Best_...	1,330 books — 13,474 voters
2	All Time Favorite Romance Novels	https://www.goodreads.com//list/show/12362.All...	5,098 books — 12,270 voters
3	Best M/F Erotic Romance like Fifty Shades of G...	https://www.goodreads.com//list/show/18698.Bes...	3,242 books — 10,193 voters
4	Best Paranormal & Fantasy Romances	https://www.goodreads.com//list/show/225.Best_...	5,115 books — 9,857 voters
5	Best ADULT Urban Fantasy, Fantasy and Paranorm...	https://www.goodreads.com//list/show/9088.Best...	4,091 books — 9,731 voters
6	Best Love Stories	https://www.goodreads.com//list/show/550.Best_...	4,859 books — 9,492 voters
7	Young Adult Romance	https://www.goodreads.com//list/show/1333.Youn...	3,720 books — 9,295 voters
8	College Romance	https://www.goodreads.com//list/show/12066.Col...	1,548 books — 8,591 voters
9	Best Ever Contemporary Romance Books	https://www.goodreads.com//list/show/57.Best_E...	4,525 books — 8,474 voters
10	Intense And "Angsty" Romance	https://www.goodreads.com//list/show/16083.Int...	2,862 books — 7,253 voters
11	Indie Authors to Watch	https://www.goodreads.com//list/show/36335.Ind...	7,280 books — 6,915 voters
12	Controlling/Sexy/Possessive Men	https://www.goodreads.com//list/show/17468.Con...	2,971 books — 6,465 voters
13	TO DIE FOR 2000 - 2015 STAND-ALONES	https://www.goodreads.com//list/show/18006.TO_...	1,887 books — 6,461 voters
14	Hottest Adult & Young Adult Romance Books	https://www.goodreads.com//list/show/18225.Hot...	2,794 books — 6,443 voters
15	Favorite Historical Romance Novels	https://www.goodreads.com//list/show/224.Favor...	3,273 books — 6,420 voters
16	Most Anticipated Romances of 2015	https://www.goodreads.com//list/show/80005.Mos...	1,410 books — 6,198 voters
17	I AM IN LOVE !!!	https://www.goodreads.com//list/show/19109.I_A...	4,013 books — 6,169 voters
18	So you love a Bad Boy or Tortured Hero	https://www.goodreads.com//list/show/4243.So_y...	3,429 books — 5,664 voters
19	Best of Little-Known Authors	https://www.goodreads.com//list/show/7205.Best...	6,334 books — 5,530 voters
20	Magic, Adventure, Romance	https://www.goodreads.com//list/show/870.Magic...	2,019 books — 5,388 voters
21	Character You Most Want to Sleep With	https://www.goodreads.com//list/show/1104.Char...	3,924 books — 5,323 voters
22	Best Woman-Authored Books	https://www.goodreads.com//list/show/26495.Bes...	7,395 books — 5,118 voters
23	MUST READS!!!	https://www.goodreads.com//list/show/19106.MUS...	7,347 books — 4,826 voters
24	Must Read Books- Different Genres	https://www.goodreads.com//list/show/2491.Must...	6,895 books — 4,764 voters
25	Books With Heroes/Heroines Who Are Assassins	https://www.goodreads.com//list/show/2669.Book...	1,122 books — 4,638 voters
26	YA Books Far Better than Twilight	https://www.goodreads.com//list/show/5490.YA_B...	2,993 books — 4,454 voters
27	Best YA/New Adult Contemporary Romance	https://www.goodreads.com//list/show/29836.Bes...	1,952 books — 4,433 voters
28	The Best Time-Travel Romance Novels	https://www.goodreads.com//list/show/421.The_B...	936 books — 4,376 voters
29	Romance Debuts 2013	https://www.goodreads.com//list/show/40930.Rom...	463 books — 4,140 voters
Define a function to get the Genre page with the Genre url
import os

def get_Genre_page(Genre_url):
    #lets take the part till  #parse using BeautifulSoup  and put it here make it a part of this
    #and this can simple return the topic_doc
     #Download the page
    response = requests.get(Genre_url)
    #Check successful response
    if response.status_code != 200:
        raise Exception('Failed to load page {}'.format(Genre_url))
    #parse using BeautifulSoup   
    Genre_doc = BeautifulSoup(response.text,'html.parser')
    return Genre_doc
Define a function get_genre_lists to get the genre lists with the help of a genre page
def get_genre_lists(Genre_page):
    
    Genre_list_url = Genre_page.find_all('a',{'class': 'listTitle'})
    Genre_voters_books = Genre_page.find_all('div',{'class': 'listFullDetails'})
    
    Genre_title_URL_dict = {'List_title':[], 'Genre_list_title_url':[], 'Voters and books':[]}
    
    New_Genre_voters_books = []
    
    for tag in Genre_list_url:
        base_url = 'https://www.goodreads.com/'
        Genre_title_URL_dict['List_title'].append(tag.text)
        Genre_title_URL_dict['Genre_list_title_url'].append(base_url + tag['href'])
        
    for tag in Genre_voters_books:
        New_Genre_voters_books.append(tag.text)
        Genre_title_URL_dict['Voters and books'] = [element.replace('\n', '') for element in New_Genre_voters_books]
        
        
    return pd.DataFrame(Genre_title_URL_dict)
# GenreURL_all30s[1] = Fiction

get_genre_lists(get_Genre_page(GenreURL_all30s[1]))
List_title	Genre_list_title_url	Voters and books
0	Best Books Ever	https://www.goodreads.com//list/show/1.Best_Bo...	93,275 books — 229,445 voters
1	Books That Everyone Should Read At Least Once	https://www.goodreads.com//list/show/264.Books...	26,725 books — 104,162 voters
2	Best Books of the 20th Century	https://www.goodreads.com//list/show/6.Best_Bo...	7,774 books — 50,353 voters
3	Best Historical Fiction	https://www.goodreads.com//list/show/15.Best_H...	6,777 books — 26,290 voters
4	Best Dystopian and Post-Apocalyptic Fiction	https://www.goodreads.com//list/show/47.Best_D...	3,318 books — 25,724 voters
5	The Best Epic Fantasy (fiction)	https://www.goodreads.com//list/show/50.The_Be...	3,616 books — 25,528 voters
6	Best "Strong Female" Fantasy Novels	https://www.goodreads.com//list/show/1023.Best...	3,971 books — 19,902 voters
7	Can't Wait Books of 2014	https://www.goodreads.com//list/show/17252.Can...	2,418 books — 15,453 voters
8	Best Paranormal Romance Series	https://www.goodreads.com//list/show/397.Best_...	1,331 books — 13,474 voters
9	The Most Begun "Read but Unfinished" (Started)...	https://www.goodreads.com//list/show/497.The_M...	2,452 books — 12,885 voters
10	Best Young Adult Realistic Novels	https://www.goodreads.com//list/show/8460.Best...	2,486 books — 12,301 voters
11	All Time Favorite Romance Novels	https://www.goodreads.com//list/show/12362.All...	5,098 books — 12,271 voters
12	Best Fantasy Series, Trilogies, and Duologies	https://www.goodreads.com//list/show/319.Best_...	1,933 books — 11,698 voters
13	YA Novels of 2013	https://www.goodreads.com//list/show/7362.YA_N...	1,517 books — 10,959 voters
14	YA Novels of 2012	https://www.goodreads.com//list/show/4902.YA_N...	1,240 books — 10,600 voters
15	Books that Exceeded your Expectations	https://www.goodreads.com//list/show/423.Books...	8,501 books — 10,588 voters
16	Best Series	https://www.goodreads.com//list/show/1381.Best...	3,026 books — 10,426 voters
17	YA Novels of 2016	https://www.goodreads.com//list/show/72299.YA_...	1,138 books — 9,708 voters
18	Most anticipated books of 2014	https://www.goodreads.com//list/show/44244.Mos...	2,185 books — 9,597 voters
19	YA Novels of 2014	https://www.goodreads.com//list/show/8794.YA_N...	1,511 books — 9,064 voters
20	YA Novels of 2015	https://www.goodreads.com//list/show/44899.YA_...	1,421 books — 8,949 voters
21	YA Novels of 2017	https://www.goodreads.com//list/show/73737.YA_...	1,095 books — 7,705 voters
22	Best Adult Vampire Books	https://www.goodreads.com//list/show/129.Best_...	1,657 books — 7,696 voters
23	Best Humorous Books	https://www.goodreads.com//list/show/312.Best_...	4,179 books — 7,377 voters
24	Best Books of 2011	https://www.goodreads.com//list/show/8226.Best...	2,593 books — 7,162 voters
25	YA Novels of 2011	https://www.goodreads.com//list/show/3812.YA_N...	1,111 books — 7,095 voters
26	Best Books of 2008	https://www.goodreads.com//list/show/4.Best_Bo...	1,711 books — 6,934 voters
27	TO DIE FOR 2000 - 2015 STAND-ALONES	https://www.goodreads.com//list/show/18006.TO_...	1,887 books — 6,461 voters
28	Best Books of 2014	https://www.goodreads.com//list/show/47649.Bes...	3,525 books — 5,963 voters
29	Best YA Fiction with GLBTQQI themes / characters	https://www.goodreads.com//list/show/653.Best_...	1,793 books — 5,868 voters
Create few more helper functions as below to construct a big function which will scrape the whole genres with the first 30 booklist types under each genre
def scrape_genrelist(topic_url, path):
    #fname = topic_name + '.csv'
    #if os.path.exists(fname): change fname to path for creating directories purpose at the last
     if os.path.exists(path):
            print("The file{} already exists.Skipping...".format(path))
#         print("The file{} already exists.Skipping...".format(fname))
            return
     genrelist_df = get_genre_lists(get_Genre_page(topic_url))
     genrelist_df.to_csv(path, index = None)
# This is to get the genre types from the first page
def get_genre_titles(doc):
    Genre_Title = doc.find_all('a',{'class': 'actionLinkLite'})
    
    n = 5
    genres_30 = Genre_Title[n:]
    
    Genre_titles = []
    for Genre in genres_30:
        Genre_titles.append(Genre.text.strip())
    return Genre_titles
get_genre_titles(get_Genre_page(GenreURL_all30s[1]))
['non-fiction',
 'children',
 'history',
 'mystery',
 'covers',
 'horror',
 'historical-fiction',
 'best',
 'gay',
 'paranormal',
 'titles',
 'love',
 'middle-grade',
 'contemporary',
 'historical-romance',
 'thriller',
 'biography',
 'nonfiction',
 'women',
 'series',
 'lgbt',
 'classics',
 'graphic-novels',
 'queer',
 'memoir']
def get_genre_urls(doc):
    
    Genre_link_tags =  doc.find_all('a',{'class': 'actionLinkLite'})

    n = 5
    Genre_link_tags_30 = Genre_link_tags[n:]

    GenreURL_all30s = []
    base_url = 'https://www.goodreads.com/'

    for Genre in Genre_link_tags_30:
        GenreURL_all30s.append(base_url+Genre['href'])
    return GenreURL_all30s
def scrape_genrelists():
    URL = "https://www.goodreads.com/list?ref=nav_brws_lists"
    #headers = {"User-Agent": "Mozilla/5.0 (Macintosh; Intel Mac OS X 10_14_6) AppleWebKit/537.36 (KHTML, like Gecko) Chrome/105.0.0.0 Safari/537.36"}
    response = requests.get(URL)
    if response.status_code != 200:
        raise Exception('Failed to load page {}'.format(URL))
    genredoc = BeautifulSoup(response.text,"html.parser")
    
    genre_topics_dict = {'title': get_genre_titles(genredoc),
                  'url': get_genre_urls(genredoc)
                  }
    return pd.DataFrame(genre_topics_dict)
scrape_genrelists()
title	url
0	romance	https://www.goodreads.com//list/tag/romance
1	fiction	https://www.goodreads.com//list/tag/fiction
2	young-adult	https://www.goodreads.com//list/tag/young-adult
3	fantasy	https://www.goodreads.com//list/tag/fantasy
4	science-fiction	https://www.goodreads.com//list/tag/science-fi...
5	non-fiction	https://www.goodreads.com//list/tag/non-fiction
6	children	https://www.goodreads.com//list/tag/children
7	history	https://www.goodreads.com//list/tag/history
8	mystery	https://www.goodreads.com//list/tag/mystery
9	covers	https://www.goodreads.com//list/tag/covers
10	horror	https://www.goodreads.com//list/tag/horror
11	historical-fiction	https://www.goodreads.com//list/tag/historical...
12	best	https://www.goodreads.com//list/tag/best
13	gay	https://www.goodreads.com//list/tag/gay
14	paranormal	https://www.goodreads.com//list/tag/paranormal
15	titles	https://www.goodreads.com//list/tag/titles
16	love	https://www.goodreads.com//list/tag/love
17	middle-grade	https://www.goodreads.com//list/tag/middle-grade
18	contemporary	https://www.goodreads.com//list/tag/contemporary
19	historical-romance	https://www.goodreads.com//list/tag/historical...
20	thriller	https://www.goodreads.com//list/tag/thriller
21	biography	https://www.goodreads.com//list/tag/biography
22	nonfiction	https://www.goodreads.com//list/tag/nonfiction
23	women	https://www.goodreads.com//list/tag/women
24	series	https://www.goodreads.com//list/tag/series
25	lgbt	https://www.goodreads.com//list/tag/lgbt
26	classics	https://www.goodreads.com//list/tag/classics
27	graphic-novels	https://www.goodreads.com//list/tag/graphic-no...
28	queer	https://www.goodreads.com//list/tag/queer
29	memoir	https://www.goodreads.com//list/tag/memoir
# genre_dict ={
#     'title': titles,
#     'description': topic_descriptions,
#     'url': topic_urls
# }
Define a final function which will scrape the whole genres with first 30 booklist under each genre
def scrape_genrelist_whole():
    print('scraping list of genrelists')
    
    genrelists_df = scrape_genrelists()
    
    os.makedirs('genredata', exist_ok = True)
    for index, row in genrelists_df.iterrows():#checking this
        print('scraping genre_lists for "{}"'.format(row['title']))
        scrape_genrelist(row['url'],'data/{}.csv'.format(row['title']))
scrape_genrelist_whole()
scraping list of genrelists
scraping genre_lists for "romance"
scraping genre_lists for "fiction"
scraping genre_lists for "young-adult"
scraping genre_lists for "fantasy"
scraping genre_lists for "science-fiction"
scraping genre_lists for "non-fiction"
scraping genre_lists for "children"
scraping genre_lists for "history"
scraping genre_lists for "mystery"
scraping genre_lists for "covers"
scraping genre_lists for "horror"
scraping genre_lists for "historical-fiction"
scraping genre_lists for "best"
scraping genre_lists for "gay"
scraping genre_lists for "paranormal"
scraping genre_lists for "titles"
scraping genre_lists for "love"
scraping genre_lists for "middle-grade"
scraping genre_lists for "contemporary"
The filedata/contemporary.csv already exists.Skipping...
scraping genre_lists for "historical-romance"
scraping genre_lists for "thriller"
scraping genre_lists for "biography"
scraping genre_lists for "nonfiction"
scraping genre_lists for "women"
scraping genre_lists for "series"
scraping genre_lists for "lgbt"
scraping genre_lists for "classics"
scraping genre_lists for "graphic-novels"
scraping genre_lists for "queer"
scraping genre_lists for "memoir"
pd.read_csv('data/women.csv')
List_title	Genre_list_title_url	Voters and books
0	Best "Strong Female" Fantasy Novels	https://www.goodreads.com//list/show/1023.Best...	3,971 books — 19,900 voters
1	Best Female Lead Characters	https://www.goodreads.com//list/show/2602.Best...	4,727 books — 5,740 voters
2	Favorite Chick-Lit	https://www.goodreads.com//list/show/402.Favor...	2,332 books — 4,794 voters
3	Best History Books	https://www.goodreads.com//list/show/1362.Best...	3,343 books — 3,446 voters
4	Best Feminist Books	https://www.goodreads.com//list/show/62.Best_F...	2,409 books — 3,339 voters
5	Female Psychological Thrillers/Suspense Writte...	https://www.goodreads.com//list/show/38997.Fem...	1,139 books — 3,186 voters
6	Memoirs by Women	https://www.goodreads.com//list/show/184.Memoi...	2,796 books — 2,927 voters
7	Best Feminist Fiction	https://www.goodreads.com//list/show/46.Best_F...	1,437 books — 2,848 voters
8	Strong Heroine Series	https://www.goodreads.com//list/show/1619.Stro...	1,639 books — 2,791 voters
9	Best Lesbian Fiction	https://www.goodreads.com//list/show/4541.Best...	1,866 books — 2,446 voters
10	Best Heroine in a Fantasy Book	https://www.goodreads.com//list/show/649.Best_...	1,391 books — 1,813 voters
11	Best Women's Fiction Novels	https://www.goodreads.com//list/show/8691.Best...	2,050 books — 1,749 voters
12	2015: What Women Born In The 1970s Read In 2015	https://www.goodreads.com//list/show/83180.201...	6,253 books — 1,551 voters
13	Science Fiction Books by Female Authors	https://www.goodreads.com//list/show/6934.Scie...	1,626 books — 1,536 voters
14	Jezebel's Books All Women Should Read	https://www.goodreads.com//list/show/852.Jezeb...	781 books — 1,499 voters
15	Comics & Graphic Novels by Women	https://www.goodreads.com//list/show/23030.Com...	1,404 books — 1,442 voters
16	Best Feminist Young Adult Books	https://www.goodreads.com//list/show/6279.Best...	1,299 books — 1,405 voters
17	Best Adult Female Friendship Books	https://www.goodreads.com//list/show/1758.Best...	664 books — 1,192 voters
18	All Sorts Favourites	https://www.goodreads.com//list/show/35826.All...	1,301 books — 1,102 voters
19	Fearless Females	https://www.goodreads.com//list/show/4810.Fear...	735 books — 1,096 voters
20	2014: What Women Born In The 1970s Read in 2014	https://www.goodreads.com//list/show/47530.201...	4,504 books — 1,056 voters
21	Inspiring Books For All Ages	https://www.goodreads.com//list/show/72349.Ins...	1,165 books — 1,032 voters
22	2018: What Women Born In The 1970s Read In 2018	https://www.goodreads.com//list/show/119141.20...	6,965 books — 985 voters
23	Books with Strong Women Characters (All Genres)	https://www.goodreads.com//list/show/13856.Boo...	1,687 books — 976 voters
24	Wise Women, Witches, Midwives, Healers, and St...	https://www.goodreads.com//list/show/8548.Wise...	1,378 books — 959 voters
25	Awesome Women of the Ancient World	https://www.goodreads.com//list/show/4368.Awes...	393 books — 948 voters
26	Girls disguised as Boys	https://www.goodreads.com//list/show/2237.Girl...	796 books — 938 voters
27	Awesome books for women	https://www.goodreads.com//list/show/21772.Awe...	1,180 books — 923 voters
28	2019: What Women Born In The 1970s Read In 2019	https://www.goodreads.com//list/show/131165.20...	6,662 books — 871 voters
29	2020: What Women Born In The 1970s Read In 2020	https://www.goodreads.com//list/show/143113.20...	6,461 books — 847 voters
Now i want to get a particular booklists with the first 100 books under them
Here i choose Childrens Genre and Best series book list

GenreURL_all30s[6]
'https://www.goodreads.com//list/tag/children'
Children_page_URL = GenreURL_all30s[6]
Children_page_URL
'https://www.goodreads.com//list/tag/children'
Childrenpage_content = requests.get(Children_page_URL)
Childrenpage_content.status_code
200
Children_genre_page = BeautifulSoup(Childrenpage_content.text,"html.parser")
Children_genre_list_url = Children_genre_page.find_all('a',{'class': 'listTitle'})
#Children_genre_list_url
Childrensbook_list_titles = []

for tag in Children_genre_list_url:
    Childrensbook_list_titles.append(tag.text)
Childrensbook_list_titles[0]
'Best Series'
Childrensbook_list_URL = []

base_url = 'https://www.goodreads.com/'
for tag in Children_genre_list_url:
    Childrensbook_list_URL.append(base_url + tag['href'])
Childrensbook_list_URL[11]
Now lets get the tags for books under each lists
Children_Best_series = get_Genre_page(Childrensbook_list_URL[0])
Children_book_title = Children_Best_series.find_all('a', {'class': 'bookTitle'})
Children_book_title[0].text.strip()
"Harry Potter and the Sorcerer's Stone (Harry Potter, #1)"
Childrensbook_titles = []

for tag in Children_book_title:
    Childrensbook_titles.append(tag.text.strip())
Childrensbook_titles[0]
"Harry Potter and the Sorcerer's Stone (Harry Potter, #1)"
Children_book_author = Children_Best_series.find_all('a', {'class': 'authorName'})
Children_book_author[0].text
'J.K. Rowling'
Childrensbook_author = []

for tag in Children_book_author:
    Childrensbook_author.append(tag.text)
Childrensbook_author[1]
'Rick Riordan'
Children_book_title[0]['href']
'/book/show/3.Harry_Potter_and_the_Sorcerer_s_Stone'
base_url = 'https://www.goodreads.com/'
Childrensbook_url = []
base_url = 'https://www.goodreads.com/'
for tag in Children_book_title:
    Childrensbook_url.append(base_url + tag['href'])
Childrensbook_url[1]
'https://www.goodreads.com//book/show/28187.The_Lightning_Thief'
Childrensbook_AvgRating_TotalRating = Children_Best_series.find_all('span', {'class': 'minirating'})
Childrensbook_avg_totalRating = []

for tag in Childrensbook_AvgRating_TotalRating:
    Childrensbook_avg_totalRating.append(tag.text)
Childrensbook_avg_totalRating[0]
' 4.47 avg rating — 8,864,853 ratings'
Childrens_book_Score = Children_Best_series.find_all('span',{'class': 'smallText uitext'})
Childrens_book_Score[0].text.strip()
'score: 341,037,\n              and\n3,441 people voted'
ChildrensbookScoreVoters = []

for tag in Childrens_book_Score:
    ChildrensbookScoreVoters.append(tag.text.strip())
 
ChildrensbookScoreVoters[0]
'score: 341,037,\n              and\n3,441 people voted'
Final_ChildrensbookScorevoters_a = [element.replace('\n', '') for element in ChildrensbookScoreVoters]
Final_ChildrensbookScorevoters_a[0]
'score: 341,037,              and3,441 people voted'
#Replace the space with no space
Final_ChildrensbookScorevoters_b = []

for i in Final_ChildrensbookScorevoters_a:
    j = i.replace(' ','')
    Final_ChildrensbookScorevoters_b.append(j)
Final_ChildrensbookScorevoters_b[0]
'score:341,037,and3,441peoplevoted'
#Create a small space between both books and votes
import re
original_list = Final_ChildrensbookScorevoters_b

 
# using regex() to perform task
FinalChildrensbook_scorevotes = [re.sub(r"([d])(\w)", r"\1 \2", ele) for ele in original_list]
FinalChildrensbook_scorevotes[0]
'score:341,037,and 3,441peoplevoted'
Childrens_book_dict ={
    'Childrens_bookTitle': Childrensbook_titles,
    'Childrens_bookAuthor': Childrensbook_author,
    'Book_url': Childrensbook_url,
    'AvgBookRating_TotalRatings': Childrensbook_avg_totalRating,
    'Childrens_votersandBooks': FinalChildrensbook_scorevotes
}
#Childrens_book_dict
ChildrensBookFrom_Best_seriesList_df = pd.DataFrame(Childrens_book_dict)
ChildrensBookFrom_Best_seriesList_df
Childrens_bookTitle	Childrens_bookAuthor	Book_url	AvgBookRating_TotalRatings	Childrens_votersandBooks
0	Harry Potter and the Sorcerer's Stone (Harry P...	J.K. Rowling	https://www.goodreads.com//book/show/3.Harry_P...	4.47 avg rating — 8,864,853 ratings	score:341,037,and 3,441peoplevoted
1	The Lightning Thief (Percy Jackson and the Oly...	Rick Riordan	https://www.goodreads.com//book/show/28187.The...	4.29 avg rating — 2,560,192 ratings	score:147,470,and 1,513peoplevoted
2	The Hunger Games (The Hunger Games, #1)	Suzanne Collins	https://www.goodreads.com//book/show/2767052-t...	4.32 avg rating — 7,632,839 ratings	score:141,271,and 1,446peoplevoted
3	City of Bones (The Mortal Instruments, #1)	Cassandra Clare	https://www.goodreads.com//book/show/256683.Ci...	4.08 avg rating — 1,865,455 ratings	score:140,336,and 1,437peoplevoted
4	Divergent (Divergent, #1)	Veronica Roth	https://www.goodreads.com//book/show/13335037-...	4.16 avg rating — 3,558,796 ratings	score:134,443,and 1,385peoplevoted
...	...	...	...	...	...
95	Wizard's First Rule (Sword of Truth, #1)	Terry Goodkind	https://www.goodreads.com//book/show/43889.Wiz...	4.12 avg rating — 240,036 ratings	score:6,449,and 71peoplevoted
96	Winnie-the-Pooh (Winnie-the-Pooh, #1)	A.A. Milne	https://www.goodreads.com//book/show/99107.Win...	4.35 avg rating — 306,220 ratings	score:6,426,and 72peoplevoted
97	Assassin's Apprentice (Farseer Trilogy, #1)	Robin Hobb	https://www.goodreads.com//book/show/45107.Ass...	4.17 avg rating — 283,720 ratings	score:6,416,and 71peoplevoted
98	Cry Wolf (Alpha & Omega, #1)	Patricia Briggs	https://www.goodreads.com//book/show/2355575.C...	4.12 avg rating — 97,778 ratings	score:6,266,and 70peoplevoted
99	Crank (Crank, #1)	Ellen Hopkins	https://www.goodreads.com//book/show/270730.Crank	4.16 avg rating — 135,922 ratings	score:6,226,and 68peoplevoted
100 rows × 5 columns

#get_Genre_page already created above i think its the same for getting the book lists too
#get_Genre_page(Childrensbook_list_URL[1])
Define a function to get a booklist with its first 100 book details
def get_book_lists(list_page):
    Children_book_title = list_page.find_all('a', {'class': 'bookTitle'})
    Children_book_author = list_page.find_all('a', {'class': 'authorName'})
    base_url = 'https://www.goodreads.com/'
    Childrensbook_AvgRating_TotalRating = list_page.find_all('span', {'class': 'minirating'})
    Childrens_book_Score = list_page.find_all('span',{'class': 'smallText uitext'})
    
    Book_list_dict ={'Book Title':[], 'Book url':[], 'Author':[], 'AvgRating and TotalRatings':[], 
                     'BookScore and Votes':[]}
    
    for tag in Children_book_title:
        Book_list_dict['Book Title'].append(tag.text.strip())
     
    for tag in Children_book_title:
        Book_list_dict['Book url'].append(base_url + tag['href'])
    
    for tag in Children_book_author:
        Book_list_dict['Author'].append(tag.text)
    
    for tag in Childrensbook_AvgRating_TotalRating:
        Book_list_dict['AvgRating and TotalRatings'].append(tag.text)
    
    New_bookscores_votes = []
    
    for tag in Childrens_book_Score:
        New_bookscores_votes.append(tag.text.strip())
        
    Final_ChildrensbookScorevoters_a = [element.replace('\n', '') for element in New_bookscores_votes]
        
    Final_ChildrensbookScorevoters_b = []

    for i in Final_ChildrensbookScorevoters_a:
        j = i.replace(' ','')
        Final_ChildrensbookScorevoters_b.append(j)
        
    
    original_list = Final_ChildrensbookScorevoters_b

 
    Book_list_dict['BookScore and Votes'] = [re.sub(r"([d])(\w)", r"\1 \2", ele) for ele in original_list]
    
    return pd.DataFrame(Book_list_dict)
get_book_lists(get_Genre_page(Childrensbook_list_URL[1]))
Book Title	Book url	Author	AvgRating and TotalRatings	BookScore and Votes
0	Harry Potter and the Sorcerer's Stone (Harry P...	https://www.goodreads.com//book/show/3.Harry_P...	J.K. Rowling	4.47 avg rating — 8,864,853 ratings	score:214,021,and 2,156peoplevoted
1	Little House on the Prairie (Little House, #3)	https://www.goodreads.com//book/show/77767.Lit...	Laura Ingalls Wilder	4.20 avg rating — 278,916 ratings	score:111,922,and 1,131peoplevoted
2	Charlotte's Web	https://www.goodreads.com//book/show/24178.Cha...	E.B. White	4.19 avg rating — 1,669,871 ratings	score:108,054,and 1,099peoplevoted
3	The Lion, the Witch and the Wardrobe (Chronicl...	https://www.goodreads.com//book/show/100915.Th...	C.S. Lewis	4.23 avg rating — 2,526,259 ratings	score:95,832,and 978peoplevoted
4	Twilight (The Twilight Saga, #1)	https://www.goodreads.com//book/show/41865.Twi...	Stephenie Meyer	3.63 avg rating — 5,931,410 ratings	score:80,251,and 812peoplevoted
...	...	...	...	...	...
95	My Side of the Mountain (Mountain, #1)	https://www.goodreads.com//book/show/41667.My_...	Jean Craighead George	4.08 avg rating — 71,359 ratings	score:9,584,and 110peoplevoted
96	Breaking Dawn (The Twilight Saga, #4)	https://www.goodreads.com//book/show/1162543.B...	Stephenie Meyer	3.72 avg rating — 1,550,714 ratings	score:9,500,and 111peoplevoted
97	Aesop's Fables	https://www.goodreads.com//book/show/21348.Aes...	Aesop	4.05 avg rating — 121,955 ratings	score:8,886,and 105peoplevoted
98	How to Eat Fried Worms	https://www.goodreads.com//book/show/322351.Ho...	Thomas Rockwell	3.76 avg rating — 46,720 ratings	score:8,742,and 103peoplevoted
99	The Trumpet of the Swan	https://www.goodreads.com//book/show/24335.The...	E.B. White	4.09 avg rating — 74,107 ratings	score:8,734,and 101peoplevoted
100 rows × 5 columns

import os

def scrape_booklist(topic_url, path):
    if os.path.exists(path):
        print("The file{} already exists.Skipping...".format(path))
        return
    list_df = get_book_lists(get_Genre_page(topic_url))
    list_df.to_csv(path, index = None)
    
def get_booklists(page):
    Title = page.find_all('a',{'class': 'listTitle'})
    
    Book_listTitle = []
    for tag in Title:
        Book_listTitle.append(tag.text)
    return Book_listTitle
#The below works
get_booklists(get_Genre_page(GenreURL_all30s[6]))
['Best Series',
 'What Book Got You Hooked?',
 "Best Kick-Ass Female Characters From YA and Children's Fantasy and Science Fiction",
 'Favorite books from my childhood',
 "Best Children's Books",
 'What To Read After Harry Potter',
 'Best Woman-Authored Books',
 "Children's Books I'll Re-Read No Matter How Old I Am",
 'The Most Deserving Newbery',
 'Best Books for Reluctant Readers',
 "100 Children's Books to Read in a Lifetime",
 'Best Picture Books',
 "Best children's books EVER",
 'Favorite Book in the Harry Potter Series',
 'Best Graphic Novels for Children',
 "Children's Picture Books With Beautiful illustrations",
 'Books That Have Made An Impression',
 'The Must-Have Series for Children Ages 6 to 12',
 'Books Every Human Being Should Read',
 "Best Children's Fantasy",
 'Best Intro to Sci-Fi for Young Readers',
 'Boarding School Stories',
 'Middle Grade Novels of 2014',
 'Best Pre Teen Female Fantasy Novels',
 "Best Children's Books Most People Haven't Heard of...",
 'Books for twelve-year-old children',
 "1001 Children's Books You Must Read Before You Grow Up",
 'Middle Grade Novels of 2016',
 "Which children's or YA books  is most recommended by you?",
 'Best mermaid books']
def get_booklistsURL(page):
    Title = page.find_all('a',{'class': 'listTitle'})
    base_url = 'https://www.goodreads.com/'
    booklistsURL = []
    for tag in Title:
        booklistsURL.append(base_url + tag['href'])     
    return booklistsURL
#below code works
get_booklistsURL(get_Genre_page(GenreURL_all30s[0]))
['https://www.goodreads.com//list/show/10762.Best_Book_Boyfriends',
 'https://www.goodreads.com//list/show/397.Best_Paranormal_Romance_Series',
 'https://www.goodreads.com//list/show/12362.All_Time_Favorite_Romance_Novels',
 'https://www.goodreads.com//list/show/18698.Best_M_F_Erotic_Romance_like_Fifty_Shades_of_Grey_not_paranormal_high_school_gay_or_sci_fi_',
 'https://www.goodreads.com//list/show/225.Best_Paranormal_Fantasy_Romances',
 'https://www.goodreads.com//list/show/9088.Best_ADULT_Urban_Fantasy_Fantasy_and_Paranormal_Romance',
 'https://www.goodreads.com//list/show/550.Best_Love_Stories_',
 'https://www.goodreads.com//list/show/1333.Young_Adult_Romance',
 'https://www.goodreads.com//list/show/12066.College_Romance',
 'https://www.goodreads.com//list/show/57.Best_Ever_Contemporary_Romance_Books',
 'https://www.goodreads.com//list/show/16083.Intense_And_Angsty_Romance',
 'https://www.goodreads.com//list/show/36335.Indie_Authors_to_Watch',
 'https://www.goodreads.com//list/show/17468.Controlling_Sexy_Possessive_Men',
 'https://www.goodreads.com//list/show/18006.TO_DIE_FOR_2000_2015_STAND_ALONES',
 'https://www.goodreads.com//list/show/18225.Hottest_Adult_Young_Adult_Romance_Books_',
 'https://www.goodreads.com//list/show/224.Favorite_Historical_Romance_Novels',
 'https://www.goodreads.com//list/show/80005.Most_Anticipated_Romances_of_2015',
 'https://www.goodreads.com//list/show/19109.I_AM_IN_LOVE_',
 'https://www.goodreads.com//list/show/4243.So_you_love_a_Bad_Boy_or_Tortured_Hero',
 'https://www.goodreads.com//list/show/7205.Best_of_Little_Known_Authors',
 'https://www.goodreads.com//list/show/870.Magic_Adventure_Romance',
 'https://www.goodreads.com//list/show/1104.Character_You_Most_Want_to_Sleep_With',
 'https://www.goodreads.com//list/show/26495.Best_Woman_Authored_Books',
 'https://www.goodreads.com//list/show/19106.MUST_READS_',
 'https://www.goodreads.com//list/show/2491.Must_Read_Books_Different_Genres',
 'https://www.goodreads.com//list/show/2669.Books_With_Heroes_Heroines_Who_Are_Assassins',
 'https://www.goodreads.com//list/show/5490.YA_Books_Far_Better_than_Twilight',
 'https://www.goodreads.com//list/show/29836.Best_YA_New_Adult_Contemporary_Romance',
 'https://www.goodreads.com//list/show/421.The_Best_Time_Travel_Romance_Novels',
 'https://www.goodreads.com//list/show/40930.Romance_Debuts_2013']
def scrape_booklists():
    URL = "https://www.goodreads.com/list/tag/children"
    response = requests.get(URL)
    if response.status_code != 200:
        raise Exception('Failed to load page {}'.format(URL))
    Bookdoc = BeautifulSoup(response.text,"html.parser")
    
    Book_title_dict = {'title': get_booklists(Bookdoc),
                      'url': get_booklistsURL(Bookdoc)}
    
    return pd.DataFrame(Book_title_dict)
scrape_booklists()
title	url
0	Best Series	https://www.goodreads.com//list/show/1381.Best...
1	What Book Got You Hooked?	https://www.goodreads.com//list/show/651.What_...
2	Best Kick-Ass Female Characters From YA and Ch...	https://www.goodreads.com//list/show/147.Best_...
3	Favorite books from my childhood	https://www.goodreads.com//list/show/226.Favor...
4	Best Children's Books	https://www.goodreads.com//list/show/86.Best_C...
5	What To Read After Harry Potter	https://www.goodreads.com//list/show/559.What_...
6	Best Woman-Authored Books	https://www.goodreads.com//list/show/26495.Bes...
7	Children's Books I'll Re-Read No Matter How Ol...	https://www.goodreads.com//list/show/3733.Chil...
8	The Most Deserving Newbery	https://www.goodreads.com//list/show/521.The_M...
9	Best Books for Reluctant Readers	https://www.goodreads.com//list/show/488.Best_...
10	100 Children's Books to Read in a Lifetime	https://www.goodreads.com//list/show/76994.100...
11	Best Picture Books	https://www.goodreads.com//list/show/460.Best_...
12	Best children's books EVER	https://www.goodreads.com//list/show/621.Best_...
13	Favorite Book in the Harry Potter Series	https://www.goodreads.com//list/show/895.Favor...
14	Best Graphic Novels for Children	https://www.goodreads.com//list/show/5038.Best...
15	Children's Picture Books With Beautiful illust...	https://www.goodreads.com//list/show/1191.Chil...
16	Books That Have Made An Impression	https://www.goodreads.com//list/show/25973.Boo...
17	The Must-Have Series for Children Ages 6 to 12	https://www.goodreads.com//list/show/496.The_M...
18	Books Every Human Being Should Read	https://www.goodreads.com//list/show/1582.Book...
19	Best Children's Fantasy	https://www.goodreads.com//list/show/461.Best_...
20	Best Intro to Sci-Fi for Young Readers	https://www.goodreads.com//list/show/1708.Best...
21	Boarding School Stories	https://www.goodreads.com//list/show/248.Board...
22	Middle Grade Novels of 2014	https://www.goodreads.com//list/show/45626.Mid...
23	Best Pre Teen Female Fantasy Novels	https://www.goodreads.com//list/show/636.Best_...
24	Best Children's Books Most People Haven't Hear...	https://www.goodreads.com//list/show/5313.Best...
25	Books for twelve-year-old children	https://www.goodreads.com//list/show/447.Books...
26	1001 Children's Books You Must Read Before You...	https://www.goodreads.com//list/show/3647.1001...
27	Middle Grade Novels of 2016	https://www.goodreads.com//list/show/73738.Mid...
28	Which children's or YA books is most recommen...	https://www.goodreads.com//list/show/32091.Whi...
29	Best mermaid books	https://www.goodreads.com//list/show/3500.Best...
def scrape_booklist_whole():
    print('scraping list of books')
    
    booklists_df = scrape_booklists()
    
    os.makedirs('Childrensbookdata', exist_ok = True)
    for index, row in booklists_df.iterrows():
        print('scraping book_lists for "{}"'.format(row['title']))
        scrape_booklist(row['url'],'data/{}.csv'.format(row['title']))
scrape_booklist_whole()
scraping list of books
scraping book_lists for "Best Series"
scraping book_lists for "What Book Got You Hooked?"
scraping book_lists for "Best Kick-Ass Female Characters From YA and Children's Fantasy and Science Fiction"
scraping book_lists for "Favorite books from my childhood"
scraping book_lists for "Best Children's Books"
scraping book_lists for "What To Read After Harry Potter"
scraping book_lists for "Best Woman-Authored Books"
scraping book_lists for "Children's Books I'll Re-Read No Matter How Old I Am"
scraping book_lists for "The Most Deserving Newbery"
scraping book_lists for "Best Books for Reluctant Readers"
scraping book_lists for "100 Children's Books to Read in a Lifetime"
scraping book_lists for "Best Picture Books"
scraping book_lists for "Best children's books EVER"
scraping book_lists for "Favorite Book in the Harry Potter Series"
scraping book_lists for "Best Graphic Novels for Children"
scraping book_lists for "Children's Picture Books With Beautiful illustrations"
scraping book_lists for "Books That Have Made An Impression"
scraping book_lists for "The Must-Have Series for Children Ages 6 to 12"
scraping book_lists for "Books Every Human Being Should Read"
scraping book_lists for "Best Children's Fantasy"
scraping book_lists for "Best Intro to Sci-Fi for Young Readers"
scraping book_lists for "Boarding School Stories"
scraping book_lists for "Middle Grade Novels of 2014"
scraping book_lists for "Best Pre Teen Female Fantasy Novels"
scraping book_lists for "Best Children's Books Most People Haven't Heard of..."
scraping book_lists for "Books for twelve-year-old children"
scraping book_lists for "1001 Children's Books You Must Read Before You Grow Up"
scraping book_lists for "Middle Grade Novels of 2016"
scraping book_lists for "Which children's or YA books  is most recommended by you?"
scraping book_lists for "Best mermaid books"
For adding description do the following
Adding description takes more time to scrape therefore showing it only for a particular booklist
Childrensbook_url = []
base_url = 'https://www.goodreads.com/'
for tag in Children_book_title:
    Childrensbook_url.append(base_url + tag['href'])
desc1 = get_Genre_page(Childrensbook_url[0]).find_all('div',{'class': 'readable stacked'})
desc1[0].text.strip()
"Harry Potter has no idea how famous he is. That's because he's being raised by his miserable aunt and uncle who are terrified Harry will learn that he's really a wizard, just as his parents were. But everything changes when Harry is summoned to attend an infamous school for wizards, and he begins to discover some clues about his illustrious birthright. From the surprising \nHarry Potter has no idea how famous he is. That's because he's being raised by his miserable aunt and uncle who are terrified Harry will learn that he's really a wizard, just as his parents were. But everything changes when Harry is summoned to attend an infamous school for wizards, and he begins to discover some clues about his illustrious birthright. From the surprising way he is greeted by a lovable giant, to the unique curriculum and colorful faculty at his unusual school, Harry finds himself drawn deep inside a mystical world he never knew existed and closer to his own noble destiny.\n...more"
def get_desc(Childrensbook_url):
    desc1 = get_Genre_page(Childrensbook_url).find_all('div',{'class': 'readable stacked'})
    
    desc_list = []
    for tag in desc1:
        desc_list.append(desc1[0].text[0:300].strip())
    return desc_list
        
get_desc(Childrensbook_url[0])
["Harry Potter has no idea how famous he is. That's because he's being raised by his miserable aunt and uncle who are terrified Harry will learn that he's really a wizard, just as his parents were. But everything changes when Harry is summoned to attend an infamous school for wizards, and he begins t"]
desc_dict = []
    
for tag in range(len(Childrensbook_url)):
    desc_dict.append(get_desc(Childrensbook_url[tag]))
    

                 
desc_dict[0]
["Harry Potter has no idea how famous he is. That's because he's being raised by his miserable aunt and uncle who are terrified Harry will learn that he's really a wizard, just as his parents were. But everything changes when Harry is summoned to attend an infamous school for wizards, and he begins t"]
Childrens_book_dict ={
    'Childrens_bookTitle': Childrensbook_titles,
    'Description': desc_dict,
    'Childrens_bookAuthor': Childrensbook_author,
    'Book_url': Childrensbook_url,
    'AvgBookRating_TotalRatings': Childrensbook_avg_totalRating,
    'Childrens_votersandBooks': FinalChildrensbook_scorevotes
}
Childrens_book_dict
{'Childrens_bookTitle': ["Harry Potter and the Sorcerer's Stone (Harry Potter, #1)",
  'The Lightning Thief (Percy Jackson and the Olympians, #1)',
  'The Hunger Games (The Hunger Games, #1)',
  'City of Bones (The Mortal Instruments, #1)',
  'Divergent (Divergent, #1)',
  'Twilight (The Twilight Saga, #1)',
  'A Game of Thrones (A Song of Ice and Fire, #1)',
  'Clockwork Angel (The Infernal Devices, #1)',
  'The Fellowship of the Ring (The Lord of the Rings, #1)',
  'Vampire Academy (Vampire Academy, #1)',
  'The Lost Hero (The Heroes of Olympus, #1)',
  'The Chain Between Worlds (The Lost Artefacts, #1)',
  'The Maze Runner (The Maze Runner, #1)',
  'Eragon (The Inheritance Cycle, #1)',
  'The Selection (The Selection, #1)',
  'Cinder (The Lunar Chronicles, #1)',
  'The Bad Beginning (A Series of Unfortunate Events, #1)',
  'Throne of Glass (Throne of Glass, #1)',
  'Uglies (Uglies, #1)',
  'Hush, Hush (Hush, Hush, #1)',
  "The Hitchhiker's Guide to the Galaxy (The Hitchhiker's Guide to the Galaxy, #1)",
  'Outlander (Outlander, #1)',
  'The Golden Compass (His Dark Materials, #1)',
  'Anne of Green Gables (Anne of Green Gables, #1)',
  'Graceling (Graceling Realm, #1)',
  'The Lion, the Witch and the Wardrobe (Chronicles of Narnia, #1)',
  'The Girl with the Dragon Tattoo (Millennium, #1)',
  'Legend (Legend, #1)',
  'Matched (Matched, #1)',
  'Dead Until Dark (Sookie Stackhouse, #1)',
  "Ender's Game (Ender's Saga, #1)",
  'The Red Pyramid (The Kane Chronicles, #1)',
  'Delirium (Delirium, #1)',
  'Bloodlines (Bloodlines, #1)',
  'Marked (House of Night, #1)',
  'Dark Lover (Black Dagger Brotherhood, #1)',
  'Shiver (The Wolves of Mercy Falls, #1)',
  'Shatter Me (Shatter Me, #1)',
  'Angels & Demons (Robert Langdon, #1)',
  'A Wrinkle in Time (Time Quintet, #1)',
  'The Angel Experiment (Maximum Ride, #1)',
  'Fallen (Fallen, #1)',
  'Little Women',
  'Artemis Fowl (Artemis Fowl, #1)',
  'Obsidian (Lux, #1)',
  'Interview with the Vampire (The Vampire Chronicles, #1)',
  "I'd Tell You I Love You, But Then I'd Have to Kill You (Gallagher Girls, #1)",
  'Fifty Shades of Grey (Fifty Shades, #1)',
  'The Iron King (The Iron Fey, #1)',
  'The Name of the Wind (The Kingkiller Chronicle, #1)',
  'I Am Number Four (Lorien Legacies, #1)',
  'Darkfever (Fever, #1)',
  'The Giver (The Giver, #1)',
  'The Color of Magic (Discworld, #1; Rincewind, #1)',
  'The Sisterhood of the Traveling Pants (Sisterhood, #1)',
  'The Gunslinger (The Dark Tower, #1)',
  'Inkheart (Inkworld, #1)',
  'Beautiful Creatures (Caster Chronicles, #1)',
  'Moon Called (Mercy Thompson, #1)',
  'The Eye of the World (The Wheel of Time, #1)',
  'Gone (Gone, #1)',
  'Halfway to the Grave (Night Huntress, #1)',
  'One for the Money (Stephanie Plum, #1)',
  'Storm Front (The Dresden Files, #1)',
  'Dune (Dune #1)',
  'Daughter of Smoke & Bone (Daughter of Smoke & Bone, #1)',
  'The Final Empire (Mistborn, #1)',
  'The Princess Diaries (The Princess Diaries, #1)',
  'Hex Hall (Hex Hall, #1)',
  'Pretty Little Liars (Pretty Little Liars, #1)',
  'A Great and Terrible Beauty (Gemma Doyle, #1)',
  'If I Stay (If I Stay, #1)',
  'The Summoning (Darkest Powers, #1)',
  "The Clan of the Cave Bear (Earth's Children, #1)",
  'Fablehaven (Fablehaven, #1)',
  'Poison Study (Study, #1)',
  'Little House in the Big Woods (Little House, #1)',
  'Shadowland (The Mediator, #1)',
  'Magic Bites (Kate Daniels, #1)',
  'Blue Bloods (Blue Bloods, #1)',
  'Into the Wild (Warriors, #1)',
  'Foundation (Foundation, #1)',
  'Magyk (Septimus Heap, #1)',
  'The Unbecoming of Mara Dyer (Mara Dyer, #1)',
  'The Boxcar Children (The Boxcar Children, #1)',
  'Heist Society (Heist Society, #1)',
  'Guilty Pleasures (Anita Blake, Vampire Hunter, #1)',
  'A Court of Thorns and Roses (A Court of Thorns and Roses, #1)',
  'Glass Houses (The Morganville Vampires, #1)',
  'Dead Witch Walking (The Hollows, #1)',
  'The Amulet of Samarkand (Bartimaeus, #1)',
  'Succubus Blues (Georgina Kincaid, #1)',
  'Wake (Wake, #1)',
  'The Hobbit',
  "Miss Peregrine's Home for Peculiar Children (Miss Peregrine's Peculiar Children, #1)",
  "Wizard's First Rule (Sword of Truth, #1)",
  'Winnie-the-Pooh (Winnie-the-Pooh, #1)',
  "Assassin's Apprentice (Farseer Trilogy, #1)",
  'Cry Wolf (Alpha & Omega, #1)',
  'Crank (Crank, #1)'],
 'Description': [["Harry Potter has no idea how famous he is. That's because he's being raised by his miserable aunt and uncle who are terrified Harry will learn that he's really a wizard, just as his parents were. But everything changes when Harry is summoned to attend an infamous school for wizards, and he begins t"],
  [],
  ["Could you survive on your own in the wild, with every one out to make sure you don't live to see the morning?In the ruins of a place once known as North America lies the nation of Panem, a shining Capitol surrounded by twelve outlying districts. The Capitol is harsh and cruel and keeps the district"],
  [],
  [],
  ["About three things I was absolutely positive.First, Edward was a vampire.Second, there was a part of him—and I didn't know how dominant that part might be—that thirsted for my blood.And third, I was unconditionally and irrevocably in love with him.Deeply seductive and extraordinarily suspenseful, T"],
  ['alternate cover editions can be found here, here and hereLong ago, in a time forgotten, a preternatural event threw the seasons out of balance. In a land where summers can last decades and winters a lifetime, trouble is brewing. The cold is returning, and in the frozen wastes to the north of Winter'],
  [],
  [],
  ["Only a true best friend can protect you from your immortal enemies...Lissa Dragomir is a Moroi princess: a mortal vampire with a rare gift for harnessing the earth's magic. She must be protected at all times from Strigoi; the fiercest vampires—the ones who never die. The powerful blend of human and"],
  [],
  ['Runner up in the 2021 TCK Publishing Reader’s Choice Awards: Fantasy GenreAt the age of five Lincoln was abandoned inexplicably at an orphanage by his father with nothing but a promise to return and an old wrist chain. 11 years later when seemingly ordinary 16-year-old Lincoln runs away from yet an'],
  ['There are alternate cover editions for this ASIN here and here.If you ain’t scared, you ain’t human. When Thomas wakes up in the lift, the only thing he can remember is his name. He’s surrounded by strangers—boys whose memories are also gone. Nice to meet ya, shank. Welcome to the Glade. Outside th'],
  ['An alternate cover edition for ISBN 9780375826696 can be found here.One boy...One dragon...A world of adventure. When Eragon finds a polished blue stone in the forest, he thinks it is the lucky discovery of a poor farm boy; perhaps it will buy his family meat for the winter. But when the stone brin'],
  ['For thirty-five girls, the Selection is the chance of a lifetime. The opportunity to escape the life laid out for them since birth. To be swept up in a world of glittering gowns and priceless jewels. To live in a palace and compete for the heart of gorgeous Prince Maxon.But for America Singer, bein'],
  [],
  ["Dear Reader,I'm sorry to say that the book you are holding in your hands is extremely unpleasant. It tells an unhappy tale about three very unlucky children. Even though they are charming and clever, the Baudelaire siblings lead lives filled with misery and woe. From the very first page of this boo"],
  [],
  ["Tally is about to turn sixteen, and she can't wait. In just a few weeks she'll have the operation that will turn her from a repellent ugly into a stunning pretty. And as a pretty, she'll be catapulted into a high-tech paradise where her only job is to have fun.But Tally's new friend Shay isn't sure"],
  [],
  ["Seconds before the Earth is demolished to make way for a galactic freeway, Arthur Dent is plucked off the planet by his friend Ford Prefect, a researcher for the revised edition of the The Hitch Hiker's Guide to the Galaxy who, for the last fifteen years, has been posing as an out of work actor. To"],
  ['The year is 1945. Claire Randall, a former combat nurse, is just back from the war and reunited with her husband on a second honeymoon when she walks through a standing stone in one of the ancient circles that dot the British Isles. Suddenly she is a Sassenach—an “outlander”—in a Scotland torn by w'],
  ['Lyra is rushing to the cold, far North, where witch clans and armored bears rule. North, where the Gobblers take the children they steal--including her friend Roger. North, where her fearsome uncle Asriel is trying to build a bridge to a parallel world.Can one small girl make a difference in such g'],
  [],
  [],
  [],
  [],
  [],
  ['In the Society, officials decide. Who you love. Where you work. When you die.Cassia has always trusted their choices. It’s hardly any price to pay for a long life, the perfect job, the ideal mate. So when her best friend appears on the Matching screen, Cassia knows with complete certainty that he i'],
  ["Sookie Stackhouse is just a small-time cocktail waitress in small-town Louisiana. Until the vampire of her dreams walks into her life-and one of her coworkers checks out....Maybe having a vampire for a boyfriend isn't such a bright idea.\nSookie Stackhouse is just a small-time cocktail waitress in s"],
  [],
  [],
  [],
  ["I wasn't free of my past, not yet.Sydney's blood is special. That's because she's an alchemist - one of a group of humans who dabble in magic and serve to bridge the worlds of humans and vampires. They protect vampire secrets - and human lives. But the last encounter Sydney had with vampires got he"],
  [],
  ['The only purebred vampire left on the planet and the leader of the Black Dagger Brotherhood, Wrath has a score to settle with the slayers who killed his parents centuries ago.But when his most trusted fighter is killed -- orphaning a half-breed daughter unaware of her heritage or her fate -- Wrath'],
  ["For years, Grace has watched the wolves in the woods behind her house. One yellow-eyed wolf—her wolf—is a chilling presence she can't seem to live without.Meanwhile, Sam has lived two lives: In winter, the frozen woods, the protection of the pack, and the silent company of a fearless girl. In summe"],
  ["I have a curseI have a giftI am a monsterI'm more than humanMy touch is lethalMy touch is powerI am their weaponI will fight backJuliette hasn't touched anyone in exactly 264 days.The last time she did, it was an accident, but The Reestablishment locked her up for murder. No one knows why Juliette'"],
  [],
  [],
  [],
  [],
  ['This is an alternate cover edition of ISBN 9780451529305.Generations of readers young and old, male and female, have fallen in love with the March sisters of Louisa May Alcott’s most popular and enduring novel, Little Women. Here are talented tomboy and author-to-be Jo, tragically frail Beth, beaut'],
  ["Twelve-year-old Artemis Fowl is a millionaire, a genius, and above all, a criminal mastermind. But even Artemis doesn't know what he's taken on when he kidnaps a fairy, Captain Holly Short of the LEPrecon Unit. These aren't the fairies of bedtime stories—they're dangerous! Full of unexpected twists"],
  [],
  [],
  ['Cammie Morgan is a student at the Gallagher Academy for Exceptional Young Women, a fairly typical all-girls school—that is, if every school taught advanced martial arts in PE and the latest in chemical warfare in science, and students received extra credit for breaking CIA codes in computer class.'],
  [],
  [],
  ["Told in Kvothe's own voice, this is the tale of the magically gifted young man who grows to be the most notorious wizard his world has ever seen. The intimate narrative of his childhood in a troupe of traveling players, his years spent as a near-feral orphan in a crime-ridden city, his daringly bra"],
  [],
  [],
  [],
  [],
  ["Carmen got the jeans at a thrift shop. They didn’t look all that great: they were worn, dirty, and speckled with bleach. On the night before she and her friends part for the summer, Carmen decides to toss them. But Tibby says they’re great. She'd love to have them. Lena and Bridget also think they’"],
  [],
  ["Alternate cover edition: 9780439709101From internationally acclaimed storyteller Cornelia Funke, this bestselling, magical epic is now out in paperback!One cruel night, Meggie's father reads aloud from a book called INKHEART-- and an evil ruler escapes the boundaries of fiction and lands in their l"],
  [],
  ["Mercedes Thompson, aka Mercy, is a talented Volkswagen mechanic living in the Tri-Cities area of Washington. She also happens to be a walker, a magical being with the power to shift into a coyote at will. Mercy's next-door neighbor is a werewolf. Her former boss is a gremlin. And she's fixing a bus"],
  [],
  ["In the blink of an eye, everyone disappears. Gone. Except for the young.There are teens, but not one single adult. Just as suddenly, there are no phones, no internet, no television. No way to get help. And no way to figure out what's happened.Hunger threatens. Bullies rule. A sinister creature lurk"],
  ['Flirting With The Grave…Half-vampire Catherine Crawfield is going after the undead with a vengeance, hoping that one of these deadbeats is her father – the one responsible for ruining her mother’s life. Then she’s captured by Bones, a vampire bounty hunter, and is forced into an unlikely partnershi'],
  [],
  ["HARRY DRESDEN — WIZARDLost Items Found. Paranormal Investigations. Consulting. Advice. Reasonable Rates. No Love Potions, Endless Purses, or Other Entertainment.Harry Dresden is the best at what he does. Well, technically, he's the only at what he does. So when the Chicago P.D. has a case that tran"],
  [],
  ['Around the world, black hand prints are appearing on doorways, scorched there by winged strangers who have crept through a slit in the sky.In a dark and dusty shop, a devil’s supply of human teeth grows dangerously low.And in the tangled lanes of Prague, a young art student is about to be caught up'],
  [],
  ["Mia Thermopolis is pretty sure there's nothing worse than being a five-foot-nine, flat-chested freshman, who also happens to be flunking Algebra.Is she ever in for a surprise.First mom announces that she's dating Mia's Algebra teacher. Then Dad has to go and reveal that he is the crown prince of Ge"],
  [],
  ["EVERYONE HAS SOMETHING TO HIDE - ESPECIALLY HIGH SCHOOL JUNIORS SPENCER, ARIA, EMILY, AND HANNASpencer covets her sister's boyfriend. Aria's fantasizing about her English teacher. Emily's crushing on the new girl at school. Hanna uses some ugly tricks to stay beautiful. But they've all kept an even"],
  [],
  [],
  ["Chloe Saunders used to have a relatively normal life.But now she finds herself in the middle of some really strange situations because:~She suddenly starts seeing dead people.~She gets locked up in a group home for unstable teens.~The group home isn't what it seems. My name is Chloe Saunders and my"],
  [],
  ['For centuries mystical creatures of all description were gathered into a hidden refuge called Fablehaven to prevent their extinction. The sanctuary survives today as one of the last strongholds of true magic. Enchanting? Absolutely. Exciting? You bet. Safe? Well, actually, quite the opposite.Kendra'],
  ["Choose: A quick death… or slow poison...About to be executed for murder, Yelena is offered an extraordinary reprieve. She'll eat the best meals, have rooms in the palace—and risk assassination by anyone trying to kill the Commander of Ixia.And so Yelena chooses to become a food taster. But the chie"],
  [],
  ["Suze is a mediator -- a liaison between the living and the dead. In other words, she sees dead people. And they won't leave her alone until she helps them resolve their unfinished business with the living. But Jesse, the hot ghost haunting her bedroom, doesn't seem to need her help. Which is a reli"],
  [],
  [],
  ['For generations, four Clans of wild cats have shared the forest according to the laws laid down by their warrior ancestors. But the ThunderClan cats are in grave danger, and the sinister ShadowClan grows stronger every day. Noble warriors are dying-- and some deaths are more mysterious than others.'],
  ['For twelve thousand years the Galactic Empire has ruled supreme. Now it is dying. But only Hari Seldon, creator of the revolutionary science of psychohistory, can see into the future -- to a dark age of ignorance, barbarism, and warfare that will last thirty thousand years. To preserve knowledge an'],
  ['The first part of an enthralling new series leads readers on a fantastic journey filled with quirky characters, clever charms, potions and spells. Ages 9+.The 7th son of the 7th son, aptly named Septimus Heap, is stolen the night he is born by a midwife who pronounces him dead. That same night, the'],
  ["Mara Dyer believes life can't get any stranger than waking up in a hospital with no memory of how she got there.It can.She believes there must be more to the accident she can't remember that killed her friends and left her strangely unharmed. There is.She doesn't believe that after everything she's"],
  [],
  ['When Katarina Bishop was three, her parents took her on a trip to the Louvre…to case it. For her seventh birthday, Katarina and her Uncle Eddie traveled to Austria…to steal the crown jewels. When Kat turned fifteen, she planned a con of her own—scamming her way into the best boarding school in the'],
  [],
  ["Feyre's survival rests upon her ability to hunt and kill – the forest where she lives is a cold, bleak place in the long winter months. So when she spots a deer in the forest being pursued by a wolf, she cannot resist fighting it for the flesh. But to do so, she must kill the predator and killing s"],
  ['From the author of the popular Weather Warden series comes the debut of an exciting new series set in Morganville, Texas, where you would be well advised to avoid being out after dark.College freshman Claire Danvers has had enough of her nightmarish dorm situation. When Claire heads off-campus, the'],
  [],
  [],
  [],
  ["For seventeen-year-old Janie, getting sucked into other people's dreams is getting old. Especially the falling dreams, the naked-but-nobody-notices dreams, and the sex-crazed dreams. Janie's seen enough fantasy booty to last her a lifetime.She can't tell anybody about what she does they'd never bel"],
  [],
  [],
  [],
  ['The adventures of Christopher Robin and his friends in which Pooh Bear uses a balloon to get honey, Piglet meets a Heffalump, and Eeyore has a birthday.'],
  [],
  ["Anna never knew werewolves existed, until the night she survived a violent attack... and became one herself. After three years at the bottom of the pack, she'd learned to keep her head down and never, ever trust dominant males. Then Charles Cornick, the enforcer—and son—of the leader of the North A"],
  ['In Crank, Ellen Hopkins chronicles the turbulent and often disturbing relationship between Kristina, a character based on her own daughter, and the "monster," the highly addictive drug crystal meth, or "crank." Kristina is introduced to the drug while visiting her largely absent and ne\'er-do-well f']],
 'Childrens_bookAuthor': ['J.K. Rowling',
  'Rick Riordan',
  'Suzanne Collins',
  'Cassandra Clare',
  'Veronica Roth',
  'Stephenie Meyer',
  'George R.R. Martin',
  'Cassandra Clare',
  'J.R.R. Tolkien',
  'Richelle Mead',
  'Rick Riordan',
  'Johnathon Nicolaou',
  'James Dashner',
  'Christopher Paolini',
  'Kiera Cass',
  'Marissa Meyer',
  'Lemony Snicket',
  'Sarah J. Maas',
  'Scott Westerfeld',
  'Becca Fitzpatrick',
  'Douglas Adams',
  'Diana Gabaldon',
  'Philip Pullman',
  'L.M. Montgomery',
  'Kristin Cashore',
  'C.S. Lewis',
  'Stieg Larsson',
  'Marie Lu',
  'Ally Condie',
  'Charlaine Harris',
  'Orson Scott Card',
  'Rick Riordan',
  'Lauren Oliver',
  'Richelle Mead',
  'P.C. Cast',
  'J.R. Ward',
  'Maggie Stiefvater',
  'Tahereh Mafi',
  'Dan Brown',
  "Madeleine L'Engle",
  'James Patterson',
  'Lauren Kate',
  'Louisa May Alcott',
  'Eoin Colfer',
  'Jennifer L. Armentrout',
  'Anne Rice',
  'Ally Carter',
  'E.L. James',
  'Julie Kagawa',
  'Patrick Rothfuss',
  'Pittacus Lore',
  'Karen Marie Moning',
  'Lois Lowry',
  'Terry Pratchett',
  'Ann Brashares',
  'Stephen King',
  'Cornelia Funke',
  'Kami Garcia',
  'Patricia Briggs',
  'Robert Jordan',
  'Michael  Grant',
  'Jeaniene Frost',
  'Janet Evanovich',
  'Jim Butcher',
  'Frank Herbert',
  'Laini Taylor',
  'Brandon Sanderson',
  'Meg Cabot',
  'Rachel Hawkins',
  'Sara Shepard',
  'Libba Bray',
  'Gayle Forman',
  'Kelley Armstrong',
  'Jean M. Auel',
  'Brandon Mull',
  'Maria V. Snyder',
  'Laura Ingalls Wilder',
  'Meg Cabot',
  'Ilona Andrews',
  'Melissa de la Cruz',
  'Erin Hunter',
  'Isaac Asimov',
  'Angie Sage',
  'Michelle Hodkin',
  'Gertrude Chandler Warner',
  'Ally Carter',
  'Laurell K. Hamilton',
  'Sarah J. Maas',
  'Rachel Caine',
  'Kim Harrison',
  'Jonathan Stroud',
  'Richelle Mead',
  'Lisa McMann',
  'J.R.R. Tolkien',
  'Ransom Riggs',
  'Terry Goodkind',
  'A.A. Milne',
  'Robin Hobb',
  'Patricia Briggs',
  'Ellen Hopkins'],
 'Book_url': ['https://www.goodreads.com//book/show/3.Harry_Potter_and_the_Sorcerer_s_Stone',
  'https://www.goodreads.com//book/show/28187.The_Lightning_Thief',
  'https://www.goodreads.com//book/show/2767052-the-hunger-games',
  'https://www.goodreads.com//book/show/256683.City_of_Bones',
  'https://www.goodreads.com//book/show/13335037-divergent',
  'https://www.goodreads.com//book/show/41865.Twilight',
  'https://www.goodreads.com//book/show/13496.A_Game_of_Thrones',
  'https://www.goodreads.com//book/show/7171637-clockwork-angel',
  'https://www.goodreads.com//book/show/3263607-the-fellowship-of-the-ring',
  'https://www.goodreads.com//book/show/345627.Vampire_Academy',
  'https://www.goodreads.com//book/show/7736182-the-lost-hero',
  'https://www.goodreads.com//book/show/60288648-the-chain-between-worlds',
  'https://www.goodreads.com//book/show/6186357-the-maze-runner',
  'https://www.goodreads.com//book/show/113436.Eragon',
  'https://www.goodreads.com//book/show/10507293-the-selection',
  'https://www.goodreads.com//book/show/36381037-cinder',
  'https://www.goodreads.com//book/show/78411.The_Bad_Beginning',
  'https://www.goodreads.com//book/show/7896527-throne-of-glass',
  'https://www.goodreads.com//book/show/24770.Uglies',
  'https://www.goodreads.com//book/show/6339664-hush-hush',
  'https://www.goodreads.com//book/show/386162.The_Hitchhiker_s_Guide_to_the_Galaxy',
  'https://www.goodreads.com//book/show/10964.Outlander',
  'https://www.goodreads.com//book/show/119322.The_Golden_Compass',
  'https://www.goodreads.com//book/show/8127.Anne_of_Green_Gables',
  'https://www.goodreads.com//book/show/3236307-graceling',
  'https://www.goodreads.com//book/show/100915.The_Lion_the_Witch_and_the_Wardrobe',
  'https://www.goodreads.com//book/show/2429135.The_Girl_with_the_Dragon_Tattoo',
  'https://www.goodreads.com//book/show/9275658-legend',
  'https://www.goodreads.com//book/show/7735333-matched',
  'https://www.goodreads.com//book/show/301082.Dead_Until_Dark',
  'https://www.goodreads.com//book/show/375802.Ender_s_Game',
  'https://www.goodreads.com//book/show/7090447-the-red-pyramid',
  'https://www.goodreads.com//book/show/11614718-delirium',
  'https://www.goodreads.com//book/show/8709527-bloodlines',
  'https://www.goodreads.com//book/show/30183.Marked',
  'https://www.goodreads.com//book/show/42899.Dark_Lover',
  'https://www.goodreads.com//book/show/6068551-shiver',
  'https://www.goodreads.com//book/show/10429045-shatter-me',
  'https://www.goodreads.com//book/show/960.Angels_Demons',
  'https://www.goodreads.com//book/show/33574273-a-wrinkle-in-time',
  'https://www.goodreads.com//book/show/13152.The_Angel_Experiment',
  'https://www.goodreads.com//book/show/6487308-fallen',
  'https://www.goodreads.com//book/show/1934.Little_Women',
  'https://www.goodreads.com//book/show/249747.Artemis_Fowl',
  'https://www.goodreads.com//book/show/12578077-obsidian',
  'https://www.goodreads.com//book/show/43763.Interview_with_the_Vampire',
  'https://www.goodreads.com//book/show/852470.I_d_Tell_You_I_Love_You_But_Then_I_d_Have_to_Kill_You',
  'https://www.goodreads.com//book/show/10818853-fifty-shades-of-grey',
  'https://www.goodreads.com//book/show/6644117-the-iron-king',
  'https://www.goodreads.com//book/show/186074.The_Name_of_the_Wind',
  'https://www.goodreads.com//book/show/7747374-i-am-number-four',
  'https://www.goodreads.com//book/show/112750.Darkfever',
  'https://www.goodreads.com//book/show/3636.The_Giver',
  'https://www.goodreads.com//book/show/34497.The_Color_of_Magic',
  'https://www.goodreads.com//book/show/452306.The_Sisterhood_of_the_Traveling_Pants',
  'https://www.goodreads.com//book/show/43615.The_Gunslinger',
  'https://www.goodreads.com//book/show/28194.Inkheart',
  'https://www.goodreads.com//book/show/6304335-beautiful-creatures',
  'https://www.goodreads.com//book/show/71811.Moon_Called',
  'https://www.goodreads.com//book/show/228665.The_Eye_of_the_World',
  'https://www.goodreads.com//book/show/2536134.Gone',
  'https://www.goodreads.com//book/show/1421990.Halfway_to_the_Grave',
  'https://www.goodreads.com//book/show/6853.One_for_the_Money',
  'https://www.goodreads.com//book/show/47212.Storm_Front',
  'https://www.goodreads.com//book/show/234225.Dune',
  'https://www.goodreads.com//book/show/8490112-daughter-of-smoke-bone',
  'https://www.goodreads.com//book/show/68428.The_Final_Empire',
  'https://www.goodreads.com//book/show/38980.The_Princess_Diaries',
  'https://www.goodreads.com//book/show/5287473-hex-hall',
  'https://www.goodreads.com//book/show/162085.Pretty_Little_Liars',
  'https://www.goodreads.com//book/show/3682.A_Great_and_Terrible_Beauty',
  'https://www.goodreads.com//book/show/4374400-if-i-stay',
  'https://www.goodreads.com//book/show/2800905-the-summoning',
  'https://www.goodreads.com//book/show/1295.The_Clan_of_the_Cave_Bear',
  'https://www.goodreads.com//book/show/44652.Fablehaven',
  'https://www.goodreads.com//book/show/60510.Poison_Study',
  'https://www.goodreads.com//book/show/8337.Little_House_in_the_Big_Woods',
  'https://www.goodreads.com//book/show/187811.Shadowland',
  'https://www.goodreads.com//book/show/38619.Magic_Bites',
  'https://www.goodreads.com//book/show/872333.Blue_Bloods',
  'https://www.goodreads.com//book/show/111332.Into_the_Wild',
  'https://www.goodreads.com//book/show/29579.Foundation',
  'https://www.goodreads.com//book/show/769483.Magyk',
  'https://www.goodreads.com//book/show/11408650-the-unbecoming-of-mara-dyer',
  'https://www.goodreads.com//book/show/297249.The_Boxcar_Children',
  'https://www.goodreads.com//book/show/6574102-heist-society',
  'https://www.goodreads.com//book/show/30281.Guilty_Pleasures',
  'https://www.goodreads.com//book/show/16096824-a-court-of-thorns-and-roses',
  'https://www.goodreads.com//book/show/27266.Glass_Houses',
  'https://www.goodreads.com//book/show/30264.Dead_Witch_Walking',
  'https://www.goodreads.com//book/show/334123.The_Amulet_of_Samarkand',
  'https://www.goodreads.com//book/show/235718.Succubus_Blues',
  'https://www.goodreads.com//book/show/1661957.Wake',
  'https://www.goodreads.com//book/show/5907.The_Hobbit',
  'https://www.goodreads.com//book/show/9460487-miss-peregrine-s-home-for-peculiar-children',
  'https://www.goodreads.com//book/show/43889.Wizard_s_First_Rule',
  'https://www.goodreads.com//book/show/99107.Winnie_the_Pooh',
  'https://www.goodreads.com//book/show/45107.Assassin_s_Apprentice',
  'https://www.goodreads.com//book/show/2355575.Cry_Wolf',
  'https://www.goodreads.com//book/show/270730.Crank'],
 'AvgBookRating_TotalRatings': [' 4.47 avg rating — 8,864,853 ratings',
  ' 4.29 avg rating — 2,560,192 ratings',
  ' 4.32 avg rating — 7,632,839 ratings',
  ' 4.08 avg rating — 1,865,455 ratings',
  ' 4.16 avg rating — 3,558,796 ratings',
  ' 3.63 avg rating — 5,931,410 ratings',
  ' 4.44 avg rating — 2,287,403 ratings',
  ' 4.32 avg rating — 776,719 ratings',
  ' 4.38 avg rating — 2,623,784 ratings',
  ' 4.11 avg rating — 615,356 ratings',
  ' 4.32 avg rating — 750,579 ratings',
  ' 4.75 avg rating — 780 ratings',
  ' 4.04 avg rating — 1,333,308 ratings',
  ' 3.93 avg rating — 1,629,787 ratings',
  ' 4.10 avg rating — 1,315,505 ratings',
  ' 4.13 avg rating — 834,087 ratings',
  ' 3.99 avg rating — 473,773 ratings',
  ' 4.19 avg rating — 907,612 ratings',
  ' 3.85 avg rating — 623,313 ratings',
  ' 3.94 avg rating — 661,404 ratings',
  ' 4.23 avg rating — 1,684,142 ratings',
  ' 4.25 avg rating — 960,295 ratings',
  ' 4.01 avg rating — 1,432,814 ratings',
  ' 4.29 avg rating — 882,154 ratings',
  ' 4.07 avg rating — 433,080 ratings',
  ' 4.23 avg rating — 2,526,259 ratings',
  ' 4.16 avg rating — 2,963,118 ratings',
  ' 4.16 avg rating — 488,390 ratings',
  ' 3.63 avg rating — 732,627 ratings',
  ' 3.96 avg rating — 522,081 ratings',
  ' 4.31 avg rating — 1,276,118 ratings',
  ' 4.10 avg rating — 366,549 ratings',
  ' 3.96 avg rating — 451,237 ratings',
  ' 4.20 avg rating — 180,236 ratings',
  ' 3.80 avg rating — 468,846 ratings',
  ' 4.16 avg rating — 321,297 ratings',
  ' 3.76 avg rating — 464,583 ratings',
  ' 3.90 avg rating — 531,587 ratings',
  ' 3.93 avg rating — 3,004,800 ratings',
  ' 3.99 avg rating — 1,132,668 ratings',
  ' 4.07 avg rating — 217,927 ratings',
  ' 3.72 avg rating — 553,744 ratings',
  ' 4.13 avg rating — 2,001,253 ratings',
  ' 3.86 avg rating — 531,401 ratings',
  ' 4.15 avg rating — 267,298 ratings',
  ' 4.01 avg rating — 541,791 ratings',
  ' 3.83 avg rating — 184,689 ratings',
  ' 3.66 avg rating — 2,338,299 ratings',
  ' 3.88 avg rating — 206,418 ratings',
  ' 4.52 avg rating — 857,083 ratings',
  ' 3.94 avg rating — 332,308 ratings',
  ' 4.06 avg rating — 173,097 ratings',
  ' 4.13 avg rating — 2,184,894 ratings',
  'really liked it 4.00 avg rating — 357,658 ratings',
  ' 3.82 avg rating — 672,959 ratings',
  ' 3.94 avg rating — 566,117 ratings',
  ' 3.91 avg rating — 403,171 ratings',
  ' 3.76 avg rating — 577,436 ratings',
  ' 4.15 avg rating — 195,864 ratings',
  ' 4.19 avg rating — 482,143 ratings',
  ' 3.86 avg rating — 193,759 ratings',
  ' 4.14 avg rating — 151,524 ratings',
  ' 4.04 avg rating — 520,642 ratings',
  ' 3.98 avg rating — 328,998 ratings',
  ' 4.25 avg rating — 1,135,090 ratings',
  'really liked it 4.00 avg rating — 351,287 ratings',
  ' 4.47 avg rating — 539,795 ratings',
  ' 3.80 avg rating — 246,967 ratings',
  ' 3.93 avg rating — 139,334 ratings',
  ' 3.86 avg rating — 196,551 ratings',
  ' 3.79 avg rating — 218,367 ratings',
  ' 3.93 avg rating — 828,494 ratings',
  ' 4.02 avg rating — 167,080 ratings',
  ' 4.08 avg rating — 252,677 ratings',
  ' 4.12 avg rating — 152,815 ratings',
  ' 4.10 avg rating — 158,491 ratings',
  ' 4.19 avg rating — 253,534 ratings',
  ' 4.04 avg rating — 67,562 ratings',
  ' 4.06 avg rating — 117,631 ratings',
  ' 3.69 avg rating — 138,352 ratings',
  ' 4.31 avg rating — 91,632 ratings',
  ' 4.17 avg rating — 489,075 ratings',
  ' 3.84 avg rating — 116,864 ratings',
  ' 4.03 avg rating — 168,338 ratings',
  ' 4.12 avg rating — 128,881 ratings',
  ' 3.91 avg rating — 91,584 ratings',
  ' 4.02 avg rating — 142,236 ratings',
  ' 4.20 avg rating — 1,173,115 ratings',
  ' 3.91 avg rating — 98,567 ratings',
  ' 4.03 avg rating — 121,918 ratings',
  ' 4.02 avg rating — 122,954 ratings',
  ' 3.94 avg rating — 55,689 ratings',
  ' 3.75 avg rating — 80,413 ratings',
  ' 4.28 avg rating — 3,498,337 ratings',
  ' 3.92 avg rating — 1,158,633 ratings',
  ' 4.12 avg rating — 240,036 ratings',
  ' 4.35 avg rating — 306,220 ratings',
  ' 4.17 avg rating — 283,720 ratings',
  ' 4.12 avg rating — 97,778 ratings',
  ' 4.16 avg rating — 135,922 ratings'],
 'Childrens_votersandBooks': ['score:341,037,and 3,441peoplevoted',
  'score:147,470,and 1,513peoplevoted',
  'score:141,271,and 1,446peoplevoted',
  'score:140,336,and 1,437peoplevoted',
  'score:134,443,and 1,385peoplevoted',
  'score:91,357,and 943peoplevoted',
  'score:81,494,and 839peoplevoted',
  'score:80,049,and 833peoplevoted',
  'score:78,010,and 808peoplevoted',
  'score:73,377,and 760peoplevoted',
  'score:70,666,and 738peoplevoted',
  'score:62,849,and 629peoplevoted',
  'score:54,527,and 575peoplevoted',
  'score:53,662,and 558peoplevoted',
  'score:49,381,and 521peoplevoted',
  'score:42,307,and 447peoplevoted',
  'score:41,575,and 435peoplevoted',
  'score:39,223,and 411peoplevoted',
  'score:38,569,and 404peoplevoted',
  'score:36,163,and 381peoplevoted',
  'score:33,774,and 353peoplevoted',
  'score:32,110,and 333peoplevoted',
  'score:31,624,and 335peoplevoted',
  'score:31,487,and 330peoplevoted',
  'score:31,031,and 330peoplevoted',
  'score:29,973,and 324peoplevoted',
  'score:29,170,and 303peoplevoted',
  'score:27,127,and 290peoplevoted',
  'score:26,019,and 281peoplevoted',
  'score:25,658,and 270peoplevoted',
  'score:25,511,and 269peoplevoted',
  'score:23,827,and 259peoplevoted',
  'score:23,774,and 258peoplevoted',
  'score:22,652,and 242peoplevoted',
  'score:22,149,and 232peoplevoted',
  'score:21,718,and 228peoplevoted',
  'score:21,680,and 233peoplevoted',
  'score:21,052,and 227peoplevoted',
  'score:20,788,and 222peoplevoted',
  'score:19,996,and 214peoplevoted',
  'score:19,432,and 207peoplevoted',
  'score:19,210,and 207peoplevoted',
  'score:18,893,and 205peoplevoted',
  'score:18,687,and 201peoplevoted',
  'score:18,609,and 200peoplevoted',
  'score:18,441,and 195peoplevoted',
  'score:18,212,and 196peoplevoted',
  'score:17,963,and 195peoplevoted',
  'score:17,752,and 193peoplevoted',
  'score:17,034,and 179peoplevoted',
  'score:17,022,and 185peoplevoted',
  'score:16,783,and 177peoplevoted',
  'score:16,386,and 180peoplevoted',
  'score:16,323,and 173peoplevoted',
  'score:16,046,and 173peoplevoted',
  'score:15,955,and 166peoplevoted',
  'score:15,656,and 171peoplevoted',
  'score:15,523,and 172peoplevoted',
  'score:15,429,and 165peoplevoted',
  'score:15,245,and 159peoplevoted',
  'score:15,147,and 164peoplevoted',
  'score:14,894,and 160peoplevoted',
  'score:14,631,and 159peoplevoted',
  'score:14,248,and 152peoplevoted',
  'score:14,196,and 154peoplevoted',
  'score:14,027,and 156peoplevoted',
  'score:13,670,and 145peoplevoted',
  'score:13,605,and 150peoplevoted',
  'score:13,414,and 148peoplevoted',
  'score:13,313,and 143peoplevoted',
  'score:12,543,and 135peoplevoted',
  'score:11,942,and 133peoplevoted',
  'score:11,127,and 125peoplevoted',
  'score:11,125,and 120peoplevoted',
  'score:10,790,and 117peoplevoted',
  'score:10,693,and 118peoplevoted',
  'score:10,682,and 119peoplevoted',
  'score:10,535,and 115peoplevoted',
  'score:10,331,and 112peoplevoted',
  'score:10,182,and 111peoplevoted',
  'score:9,922,and 107peoplevoted',
  'score:9,326,and 97peoplevoted',
  'score:9,258,and 103peoplevoted',
  'score:9,104,and 101peoplevoted',
  'score:8,870,and 98peoplevoted',
  'score:8,091,and 90peoplevoted',
  'score:7,984,and 87peoplevoted',
  'score:7,886,and 85peoplevoted',
  'score:7,527,and 85peoplevoted',
  'score:7,352,and 80peoplevoted',
  'score:7,260,and 80peoplevoted',
  'score:7,232,and 81peoplevoted',
  'score:7,069,and 79peoplevoted',
  'score:7,039,and 81peoplevoted',
  'score:6,750,and 78peoplevoted',
  'score:6,449,and 71peoplevoted',
  'score:6,426,and 72peoplevoted',
  'score:6,416,and 71peoplevoted',
  'score:6,266,and 70peoplevoted',
  'score:6,226,and 68peoplevoted']}
ChildrensBookFrom_Best_seriesList_df = pd.DataFrame(Childrens_book_dict)
ChildrensBookFrom_Best_seriesList_df
Childrens_bookTitle	Description	Childrens_bookAuthor	Book_url	AvgBookRating_TotalRatings	Childrens_votersandBooks
0	Harry Potter and the Sorcerer's Stone (Harry P...	[Harry Potter has no idea how famous he is. Th...	J.K. Rowling	https://www.goodreads.com//book/show/3.Harry_P...	4.47 avg rating — 8,864,853 ratings	score:341,037,and 3,441peoplevoted
1	The Lightning Thief (Percy Jackson and the Oly...	[]	Rick Riordan	https://www.goodreads.com//book/show/28187.The...	4.29 avg rating — 2,560,192 ratings	score:147,470,and 1,513peoplevoted
2	The Hunger Games (The Hunger Games, #1)	[Could you survive on your own in the wild, wi...	Suzanne Collins	https://www.goodreads.com//book/show/2767052-t...	4.32 avg rating — 7,632,839 ratings	score:141,271,and 1,446peoplevoted
3	City of Bones (The Mortal Instruments, #1)	[]	Cassandra Clare	https://www.goodreads.com//book/show/256683.Ci...	4.08 avg rating — 1,865,455 ratings	score:140,336,and 1,437peoplevoted
4	Divergent (Divergent, #1)	[]	Veronica Roth	https://www.goodreads.com//book/show/13335037-...	4.16 avg rating — 3,558,796 ratings	score:134,443,and 1,385peoplevoted
...	...	...	...	...	...	...
95	Wizard's First Rule (Sword of Truth, #1)	[]	Terry Goodkind	https://www.goodreads.com//book/show/43889.Wiz...	4.12 avg rating — 240,036 ratings	score:6,449,and 71peoplevoted
96	Winnie-the-Pooh (Winnie-the-Pooh, #1)	[The adventures of Christopher Robin and his f...	A.A. Milne	https://www.goodreads.com//book/show/99107.Win...	4.35 avg rating — 306,220 ratings	score:6,426,and 72peoplevoted
97	Assassin's Apprentice (Farseer Trilogy, #1)	[]	Robin Hobb	https://www.goodreads.com//book/show/45107.Ass...	4.17 avg rating — 283,720 ratings	score:6,416,and 71peoplevoted
98	Cry Wolf (Alpha & Omega, #1)	[Anna never knew werewolves existed, until the...	Patricia Briggs	https://www.goodreads.com//book/show/2355575.C...	4.12 avg rating — 97,778 ratings	score:6,266,and 70peoplevoted
99	Crank (Crank, #1)	[In Crank, Ellen Hopkins chronicles the turbul...	Ellen Hopkins	https://www.goodreads.com//book/show/270730.Crank	4.16 avg rating — 135,922 ratings	score:6,226,and 68peoplevoted
100 rows × 6 columns

ChildrensBookFrom_Best_seriesList_df.to_csv('ChildrensBookFrom_Best_seriesList_descriptions.csv',index = None)
Create a loop to get the book lists for atleast 3 pages using for loop
page = 1
Picture_Books = []
while page !=4:
    base_url = 'https://www.goodreads.com/'
    url = f"https://www.goodreads.com/list/show/460.Best_Picture_Books?page={page}"
    response = requests.get(url)
    soup = BeautifulSoup(response.content,"html.parser")
    for book in soup.find_all("a", class_="bookTitle"):
        picture_book = {}
        picture_book["title"] = book.get_text(strip=True)
        picture_book["url"] = base_url+book['href']
        
        Picture_Books.append(picture_book)
    page = page + 1
    
Picture_books_df = pd.DataFrame(Picture_Books)
Picture_books_df.to_csv('picture_books_3pages.csv',index = None)
 
